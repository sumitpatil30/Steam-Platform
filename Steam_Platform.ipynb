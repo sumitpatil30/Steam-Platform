{
 "cells": [
  {
   "cell_type": "code",
   "execution_count": 1,
   "metadata": {},
   "outputs": [],
   "source": [
    "import json\n",
    "import numpy as np\n",
    "import pandas as pd\n",
    "import requests\n",
    "import re\n",
    "import itertools\n",
    "import time\n",
    "import os\n",
    "import seaborn as sns\n",
    "import matplotlib.pyplot as plt"
   ]
  },
  {
   "cell_type": "code",
   "execution_count": 2,
   "metadata": {},
   "outputs": [],
   "source": [
    "import pickle\n",
    "from bs4 import BeautifulSoup\n",
    "from datetime import datetime\n",
    "from collections import Counter"
   ]
  },
  {
   "cell_type": "code",
   "execution_count": 3,
   "metadata": {},
   "outputs": [],
   "source": [
    "#################### START FROM HERE ####################"
   ]
  },
  {
   "cell_type": "code",
   "execution_count": 4,
   "metadata": {},
   "outputs": [],
   "source": [
    "# I will get data in 3 stages\n",
    "# In the first stage, I will get appid of all game from steam\n",
    "# In the second stage, I will get details of those all games from appid\n",
    "# In the third stage, I will get dates of games by web-scraping"
   ]
  },
  {
   "cell_type": "code",
   "execution_count": 5,
   "metadata": {},
   "outputs": [],
   "source": [
    "# Start of first stage"
   ]
  },
  {
   "cell_type": "code",
   "execution_count": 3,
   "metadata": {},
   "outputs": [],
   "source": [
    "# Create empty list to store app id\n",
    "appid_list =[]"
   ]
  },
  {
   "cell_type": "code",
   "execution_count": 4,
   "metadata": {},
   "outputs": [],
   "source": [
    "url = \"https://steamspy.com/api.php?request=all&page=\""
   ]
  },
  {
   "cell_type": "code",
   "execution_count": 5,
   "metadata": {},
   "outputs": [],
   "source": [
    "# Iterate to 1,000 pages as we don't know how many games are present on steam\n",
    "# Then store app id in 'appid_list'\n",
    "\n",
    "for page in range(0, 1000):\n",
    "    response_data = requests.get((url + str(page)))\n",
    "    data = pd.DataFrame.from_dict(response_data.json(), orient='index')\n",
    "    appid_list.extend(data['appid'].to_list())"
   ]
  },
  {
   "cell_type": "code",
   "execution_count": null,
   "metadata": {},
   "outputs": [],
   "source": [
    "# Temporarily storing this file for future use\n",
    "with open('appid_list', 'wb') as f:\n",
    "    pickle.dump(appid_list,f)"
   ]
  },
  {
   "cell_type": "code",
   "execution_count": null,
   "metadata": {},
   "outputs": [],
   "source": [
    "# By checking the appid_list length, I found there are 46101 games"
   ]
  },
  {
   "cell_type": "code",
   "execution_count": 12,
   "metadata": {},
   "outputs": [],
   "source": [
    "### End of first stage"
   ]
  },
  {
   "cell_type": "code",
   "execution_count": 13,
   "metadata": {},
   "outputs": [],
   "source": [
    "### Start of second stage"
   ]
  },
  {
   "cell_type": "code",
   "execution_count": 14,
   "metadata": {},
   "outputs": [],
   "source": [
    "# Now checking the app details\n",
    "url_1 = \"https://steamspy.com/api.php?request=appdetails&appid=\""
   ]
  },
  {
   "cell_type": "code",
   "execution_count": 15,
   "metadata": {},
   "outputs": [],
   "source": [
    "games_data = pd.DataFrame()"
   ]
  },
  {
   "cell_type": "code",
   "execution_count": 17,
   "metadata": {},
   "outputs": [],
   "source": [
    "for appid in appid_list:\n",
    "    response_data = requests.get((url_1 + str(appid)))\n",
    "    data_1 = pd.DataFrame.from_dict(response_data.json())\n",
    "    games_data = games_data.append(data_1.head(1))\n",
    "    time.sleep(1.2)\n",
    "    \n",
    "# time.sleep(1.2) will pause the execution for 1.2 seconds"
   ]
  },
  {
   "cell_type": "code",
   "execution_count": null,
   "metadata": {},
   "outputs": [],
   "source": [
    "### End of second stage"
   ]
  },
  {
   "cell_type": "code",
   "execution_count": null,
   "metadata": {},
   "outputs": [],
   "source": [
    "### Start of third stage"
   ]
  },
  {
   "cell_type": "code",
   "execution_count": null,
   "metadata": {},
   "outputs": [],
   "source": [
    "# Web-scraping date of release \n",
    "url_3= \"https://store.steampowered.com/app/\""
   ]
  },
  {
   "cell_type": "code",
   "execution_count": null,
   "metadata": {},
   "outputs": [],
   "source": [
    "for i in range(len(games_data)):\n",
    "    page = requests.get((url_3 + str(games_data.loc[i]['appid']) + str('/')))\n",
    "    soup = BeautifulSoup(page.content, 'html.parser')\n",
    "    release_date = soup.find(\"div\", class_=\"date\")\n",
    "    try:\n",
    "        games_data.loc[i]['date_of_release'] = release_date.text\n",
    "    except:\n",
    "        games_data.loc[i]['date_of_release'] = np.NaN"
   ]
  },
  {
   "cell_type": "code",
   "execution_count": 744,
   "metadata": {},
   "outputs": [],
   "source": [
    "# Creating 3 more columns which will strore day, month and year of release\n",
    "games_data['day_of_release'] = np.nan\n",
    "games_data['month_of_release'] = np.nan\n",
    "games_data['year_of_release'] = np.nan"
   ]
  },
  {
   "cell_type": "code",
   "execution_count": 745,
   "metadata": {},
   "outputs": [],
   "source": [
    "# Storing the values in day_of_release, month_of_release and year_of_release\n",
    "# For the games which don't have 'date_of_release', I will store 0\n",
    "for i in range(len(games_data)):\n",
    "    try:\n",
    "        datetime_object = datetime.strptime(str(games_data.at[i, 'date_of_release']), '%d %b, %Y')\n",
    "        games_data.at[i, 'day_of_release'] = int(datetime_object.day)\n",
    "        games_data.at[i, 'month_of_release'] = int(datetime_object.month)\n",
    "        games_data.at[i, 'year_of_release'] = int(datetime_object.year)\n",
    "    except:\n",
    "        games_data.at[i, 'day_of_release'] = 0\n",
    "        games_data.at[i, 'month_of_release'] = 0\n",
    "        games_data.at[i, 'year_of_release'] = 0"
   ]
  },
  {
   "cell_type": "code",
   "execution_count": 746,
   "metadata": {},
   "outputs": [],
   "source": [
    "# converting all 3 columns to int\n",
    "games_data['day_of_release']   = games_data['day_of_release'].astype(int) \n",
    "games_data['month_of_release'] = games_data['month_of_release'].astype(int)\n",
    "games_data['year_of_release']  = games_data['year_of_release'].astype(int)"
   ]
  },
  {
   "cell_type": "code",
   "execution_count": null,
   "metadata": {},
   "outputs": [],
   "source": [
    "### End of third stage"
   ]
  },
  {
   "cell_type": "code",
   "execution_count": 614,
   "metadata": {},
   "outputs": [],
   "source": [
    "# Saving the games_data for future use\n",
    "os.chdir('E:\\\\Analytics\\\\Steam Data')\n",
    "games_data.to_csv('games_data.csv', index= False)"
   ]
  },
  {
   "cell_type": "code",
   "execution_count": null,
   "metadata": {},
   "outputs": [],
   "source": [
    "#### DATA EXTRACTION TILL HERE ####"
   ]
  },
  {
   "cell_type": "code",
   "execution_count": null,
   "metadata": {},
   "outputs": [],
   "source": []
  },
  {
   "cell_type": "code",
   "execution_count": null,
   "metadata": {},
   "outputs": [],
   "source": [
    "#### EXPLORATORY DATA ANALYSIS FROM HERE  ####"
   ]
  },
  {
   "cell_type": "code",
   "execution_count": 21,
   "metadata": {},
   "outputs": [],
   "source": [
    "# Changing the current directory\n",
    "os.chdir('E:\\\\Analytics\\\\Steam Data')"
   ]
  },
  {
   "cell_type": "code",
   "execution_count": 22,
   "metadata": {},
   "outputs": [],
   "source": [
    "# Loading the games_data file into dataframe\n",
    "games_data = pd.read_csv('games_data.csv')"
   ]
  },
  {
   "cell_type": "code",
   "execution_count": 23,
   "metadata": {},
   "outputs": [
    {
     "data": {
      "text/html": [
       "<div>\n",
       "<style scoped>\n",
       "    .dataframe tbody tr th:only-of-type {\n",
       "        vertical-align: middle;\n",
       "    }\n",
       "\n",
       "    .dataframe tbody tr th {\n",
       "        vertical-align: top;\n",
       "    }\n",
       "\n",
       "    .dataframe thead th {\n",
       "        text-align: right;\n",
       "    }\n",
       "</style>\n",
       "<table border=\"1\" class=\"dataframe\">\n",
       "  <thead>\n",
       "    <tr style=\"text-align: right;\">\n",
       "      <th></th>\n",
       "      <th>appid</th>\n",
       "      <th>name</th>\n",
       "      <th>developer</th>\n",
       "      <th>publisher</th>\n",
       "      <th>score_rank</th>\n",
       "      <th>positive</th>\n",
       "      <th>negative</th>\n",
       "      <th>userscore</th>\n",
       "      <th>owners</th>\n",
       "      <th>average_forever</th>\n",
       "      <th>...</th>\n",
       "      <th>initialprice</th>\n",
       "      <th>discount</th>\n",
       "      <th>ccu</th>\n",
       "      <th>languages</th>\n",
       "      <th>genre</th>\n",
       "      <th>tags</th>\n",
       "      <th>date_of_release</th>\n",
       "      <th>day_of_release</th>\n",
       "      <th>month_of_release</th>\n",
       "      <th>year_of_release</th>\n",
       "    </tr>\n",
       "  </thead>\n",
       "  <tbody>\n",
       "    <tr>\n",
       "      <td>0</td>\n",
       "      <td>570</td>\n",
       "      <td>Dota 2</td>\n",
       "      <td>Valve</td>\n",
       "      <td>Valve</td>\n",
       "      <td>NaN</td>\n",
       "      <td>1311073</td>\n",
       "      <td>250492</td>\n",
       "      <td>0</td>\n",
       "      <td>100,000,000 .. 200,000,000</td>\n",
       "      <td>36738</td>\n",
       "      <td>...</td>\n",
       "      <td>0.0</td>\n",
       "      <td>0.0</td>\n",
       "      <td>518429</td>\n",
       "      <td>English, Bulgarian, Czech, Danish, Dutch, Finn...</td>\n",
       "      <td>Action, Free to Play, Strategy</td>\n",
       "      <td>{'Free to Play': 58005, 'MOBA': 19254, 'Multip...</td>\n",
       "      <td>9 Jul, 2013</td>\n",
       "      <td>9</td>\n",
       "      <td>7</td>\n",
       "      <td>2013</td>\n",
       "    </tr>\n",
       "    <tr>\n",
       "      <td>1</td>\n",
       "      <td>730</td>\n",
       "      <td>Counter-Strike: Global Offensive</td>\n",
       "      <td>Valve, Hidden Path Entertainment</td>\n",
       "      <td>Valve</td>\n",
       "      <td>NaN</td>\n",
       "      <td>5164509</td>\n",
       "      <td>698131</td>\n",
       "      <td>0</td>\n",
       "      <td>50,000,000 .. 100,000,000</td>\n",
       "      <td>28975</td>\n",
       "      <td>...</td>\n",
       "      <td>0.0</td>\n",
       "      <td>0.0</td>\n",
       "      <td>643583</td>\n",
       "      <td>English, Czech, Danish, Dutch, Finnish, French...</td>\n",
       "      <td>Action, Free to Play</td>\n",
       "      <td>{'FPS': 86792, 'Shooter': 62264, 'Multiplayer'...</td>\n",
       "      <td>21 Aug, 2012</td>\n",
       "      <td>21</td>\n",
       "      <td>8</td>\n",
       "      <td>2012</td>\n",
       "    </tr>\n",
       "    <tr>\n",
       "      <td>2</td>\n",
       "      <td>578080</td>\n",
       "      <td>PUBG: BATTLEGROUNDS</td>\n",
       "      <td>KRAFTON, Inc.</td>\n",
       "      <td>KRAFTON, Inc.</td>\n",
       "      <td>NaN</td>\n",
       "      <td>998442</td>\n",
       "      <td>822166</td>\n",
       "      <td>0</td>\n",
       "      <td>50,000,000 .. 100,000,000</td>\n",
       "      <td>24605</td>\n",
       "      <td>...</td>\n",
       "      <td>2999.0</td>\n",
       "      <td>0.0</td>\n",
       "      <td>182547</td>\n",
       "      <td>English, Korean, Simplified Chinese, French, G...</td>\n",
       "      <td>Action, Adventure, Massively Multiplayer</td>\n",
       "      <td>{'Survival': 13459, 'Shooter': 11245, 'Multipl...</td>\n",
       "      <td>21 Dec, 2017</td>\n",
       "      <td>21</td>\n",
       "      <td>12</td>\n",
       "      <td>2017</td>\n",
       "    </tr>\n",
       "    <tr>\n",
       "      <td>3</td>\n",
       "      <td>440</td>\n",
       "      <td>Team Fortress 2</td>\n",
       "      <td>Valve</td>\n",
       "      <td>Valve</td>\n",
       "      <td>NaN</td>\n",
       "      <td>758302</td>\n",
       "      <td>50533</td>\n",
       "      <td>0</td>\n",
       "      <td>50,000,000 .. 100,000,000</td>\n",
       "      <td>7569</td>\n",
       "      <td>...</td>\n",
       "      <td>0.0</td>\n",
       "      <td>0.0</td>\n",
       "      <td>97380</td>\n",
       "      <td>English, Danish, Dutch, Finnish, French, Germa...</td>\n",
       "      <td>Action, Free to Play</td>\n",
       "      <td>{'Free to Play': 61097, 'Hero Shooter': 60396,...</td>\n",
       "      <td>10 Oct, 2007</td>\n",
       "      <td>10</td>\n",
       "      <td>10</td>\n",
       "      <td>2007</td>\n",
       "    </tr>\n",
       "    <tr>\n",
       "      <td>4</td>\n",
       "      <td>304930</td>\n",
       "      <td>Unturned</td>\n",
       "      <td>Smartly Dressed Games</td>\n",
       "      <td>Smartly Dressed Games</td>\n",
       "      <td>NaN</td>\n",
       "      <td>410378</td>\n",
       "      <td>38733</td>\n",
       "      <td>0</td>\n",
       "      <td>20,000,000 .. 50,000,000</td>\n",
       "      <td>7128</td>\n",
       "      <td>...</td>\n",
       "      <td>0.0</td>\n",
       "      <td>0.0</td>\n",
       "      <td>28253</td>\n",
       "      <td>English</td>\n",
       "      <td>Action, Adventure, Casual, Free to Play, Indie</td>\n",
       "      <td>{'Free to Play': 36064, 'Survival': 15766, 'Zo...</td>\n",
       "      <td>7 Jul, 2017</td>\n",
       "      <td>7</td>\n",
       "      <td>7</td>\n",
       "      <td>2017</td>\n",
       "    </tr>\n",
       "  </tbody>\n",
       "</table>\n",
       "<p>5 rows × 24 columns</p>\n",
       "</div>"
      ],
      "text/plain": [
       "    appid                              name                         developer  \\\n",
       "0     570                            Dota 2                             Valve   \n",
       "1     730  Counter-Strike: Global Offensive  Valve, Hidden Path Entertainment   \n",
       "2  578080               PUBG: BATTLEGROUNDS                     KRAFTON, Inc.   \n",
       "3     440                   Team Fortress 2                             Valve   \n",
       "4  304930                          Unturned             Smartly Dressed Games   \n",
       "\n",
       "               publisher  score_rank  positive  negative  userscore  \\\n",
       "0                  Valve         NaN   1311073    250492          0   \n",
       "1                  Valve         NaN   5164509    698131          0   \n",
       "2          KRAFTON, Inc.         NaN    998442    822166          0   \n",
       "3                  Valve         NaN    758302     50533          0   \n",
       "4  Smartly Dressed Games         NaN    410378     38733          0   \n",
       "\n",
       "                       owners  average_forever  ...  initialprice  discount  \\\n",
       "0  100,000,000 .. 200,000,000            36738  ...           0.0       0.0   \n",
       "1   50,000,000 .. 100,000,000            28975  ...           0.0       0.0   \n",
       "2   50,000,000 .. 100,000,000            24605  ...        2999.0       0.0   \n",
       "3   50,000,000 .. 100,000,000             7569  ...           0.0       0.0   \n",
       "4    20,000,000 .. 50,000,000             7128  ...           0.0       0.0   \n",
       "\n",
       "      ccu                                          languages  \\\n",
       "0  518429  English, Bulgarian, Czech, Danish, Dutch, Finn...   \n",
       "1  643583  English, Czech, Danish, Dutch, Finnish, French...   \n",
       "2  182547  English, Korean, Simplified Chinese, French, G...   \n",
       "3   97380  English, Danish, Dutch, Finnish, French, Germa...   \n",
       "4   28253                                            English   \n",
       "\n",
       "                                            genre  \\\n",
       "0                  Action, Free to Play, Strategy   \n",
       "1                            Action, Free to Play   \n",
       "2        Action, Adventure, Massively Multiplayer   \n",
       "3                            Action, Free to Play   \n",
       "4  Action, Adventure, Casual, Free to Play, Indie   \n",
       "\n",
       "                                                tags  date_of_release  \\\n",
       "0  {'Free to Play': 58005, 'MOBA': 19254, 'Multip...      9 Jul, 2013   \n",
       "1  {'FPS': 86792, 'Shooter': 62264, 'Multiplayer'...     21 Aug, 2012   \n",
       "2  {'Survival': 13459, 'Shooter': 11245, 'Multipl...     21 Dec, 2017   \n",
       "3  {'Free to Play': 61097, 'Hero Shooter': 60396,...     10 Oct, 2007   \n",
       "4  {'Free to Play': 36064, 'Survival': 15766, 'Zo...      7 Jul, 2017   \n",
       "\n",
       "  day_of_release month_of_release year_of_release  \n",
       "0              9                7            2013  \n",
       "1             21                8            2012  \n",
       "2             21               12            2017  \n",
       "3             10               10            2007  \n",
       "4              7                7            2017  \n",
       "\n",
       "[5 rows x 24 columns]"
      ]
     },
     "execution_count": 23,
     "metadata": {},
     "output_type": "execute_result"
    }
   ],
   "source": [
    "# Checking the top 5 rows of games_data\n",
    "games_data.head(5)"
   ]
  },
  {
   "cell_type": "code",
   "execution_count": 24,
   "metadata": {},
   "outputs": [],
   "source": [
    "#To make the data more readable, I will change the labels of 'month_of_release'\n",
    "\n",
    "month_labels ={ 0 : np.nan,\n",
    "                1 : 'Jan',\n",
    "                2 : 'Feb',\n",
    "                3 : 'Mar',\n",
    "                4 : 'Apr',\n",
    "                5 : 'May',\n",
    "                6 : 'June',\n",
    "                7 : 'July',\n",
    "                8 : 'Aug',\n",
    "                9 : 'Sept',\n",
    "                10: 'Oct',\n",
    "                11: 'Nov',\n",
    "                12 :'Dec',\n",
    "                 }"
   ]
  },
  {
   "cell_type": "code",
   "execution_count": 25,
   "metadata": {},
   "outputs": [],
   "source": [
    "# Assign proper labels for 'month_of_release'\n",
    "games_data['month_of_release'] = games_data['month_of_release'].map(month_labels)"
   ]
  },
  {
   "cell_type": "code",
   "execution_count": 26,
   "metadata": {},
   "outputs": [
    {
     "name": "stdout",
     "output_type": "stream",
     "text": [
      "<class 'pandas.core.frame.DataFrame'>\n",
      "RangeIndex: 46101 entries, 0 to 46100\n",
      "Data columns (total 24 columns):\n",
      "appid               46101 non-null int64\n",
      "name                46091 non-null object\n",
      "developer           45900 non-null object\n",
      "publisher           45935 non-null object\n",
      "score_rank          46 non-null float64\n",
      "positive            46101 non-null int64\n",
      "negative            46101 non-null int64\n",
      "userscore           46101 non-null int64\n",
      "owners              46101 non-null object\n",
      "average_forever     46101 non-null int64\n",
      "average_2weeks      46101 non-null int64\n",
      "median_forever      46101 non-null int64\n",
      "median_2weeks       46101 non-null int64\n",
      "price               46073 non-null float64\n",
      "initialprice        46080 non-null float64\n",
      "discount            46080 non-null float64\n",
      "ccu                 46101 non-null int64\n",
      "languages           46021 non-null object\n",
      "genre               45869 non-null object\n",
      "tags                46101 non-null object\n",
      "date_of_release     45913 non-null object\n",
      "day_of_release      46101 non-null int64\n",
      "month_of_release    45771 non-null object\n",
      "year_of_release     46101 non-null int64\n",
      "dtypes: float64(4), int64(11), object(9)\n",
      "memory usage: 8.4+ MB\n"
     ]
    }
   ],
   "source": [
    "# Checking the structure of games_data\n",
    "games_data.info()"
   ]
  },
  {
   "cell_type": "code",
   "execution_count": 27,
   "metadata": {},
   "outputs": [
    {
     "data": {
      "text/plain": [
       "NaN      46055\n",
       "98.0        15\n",
       "99.0        14\n",
       "100.0       12\n",
       "97.0         5\n",
       "Name: score_rank, dtype: int64"
      ]
     },
     "execution_count": 27,
     "metadata": {},
     "output_type": "execute_result"
    }
   ],
   "source": [
    "# Checking the 'score_rank' column\n",
    "games_data['score_rank'].value_counts(dropna= False)"
   ]
  },
  {
   "cell_type": "code",
   "execution_count": 28,
   "metadata": {},
   "outputs": [],
   "source": [
    "# Since there are 46055 null values for 'score_rank', I will remove this column\n",
    "del games_data['score_rank']"
   ]
  },
  {
   "cell_type": "code",
   "execution_count": 29,
   "metadata": {},
   "outputs": [
    {
     "data": {
      "text/plain": [
       "0      46055\n",
       "100        4\n",
       "95         3\n",
       "46         2\n",
       "68         2\n",
       "80         2\n",
       "70         2\n",
       "69         2\n",
       "51         2\n",
       "84         2\n",
       "94         2\n",
       "76         1\n",
       "67         1\n",
       "98         1\n",
       "97         1\n",
       "65         1\n",
       "96         1\n",
       "71         1\n",
       "73         1\n",
       "74         1\n",
       "61         1\n",
       "77         1\n",
       "92         1\n",
       "63         1\n",
       "81         1\n",
       "82         1\n",
       "53         1\n",
       "55         1\n",
       "87         1\n",
       "88         1\n",
       "57         1\n",
       "59         1\n",
       "60         1\n",
       "78         1\n",
       "Name: userscore, dtype: int64"
      ]
     },
     "execution_count": 29,
     "metadata": {},
     "output_type": "execute_result"
    }
   ],
   "source": [
    "# Checking the 'userscore' column\n",
    "games_data['userscore'].value_counts()"
   ]
  },
  {
   "cell_type": "code",
   "execution_count": 30,
   "metadata": {},
   "outputs": [],
   "source": [
    "# Similarly with 'userscore', there are 46055 games which don't have any score \n",
    "# So, I will remove 'userscore' column \n",
    "del games_data['userscore']"
   ]
  },
  {
   "cell_type": "code",
   "execution_count": 31,
   "metadata": {},
   "outputs": [
    {
     "data": {
      "text/plain": [
       "46101"
      ]
     },
     "execution_count": 31,
     "metadata": {},
     "output_type": "execute_result"
    }
   ],
   "source": [
    "# Total number of games\n",
    "games_data['appid'].nunique()"
   ]
  },
  {
   "cell_type": "markdown",
   "metadata": {},
   "source": [
    "# Number of unique games in dataset = 46,101"
   ]
  },
  {
   "cell_type": "code",
   "execution_count": 32,
   "metadata": {},
   "outputs": [
    {
     "data": {
      "text/plain": [
       "45907"
      ]
     },
     "execution_count": 32,
     "metadata": {},
     "output_type": "execute_result"
    }
   ],
   "source": [
    "# Total number of name\n",
    "games_data['name'].nunique()"
   ]
  },
  {
   "cell_type": "code",
   "execution_count": 33,
   "metadata": {},
   "outputs": [
    {
     "data": {
      "text/plain": [
       "Lost                4\n",
       "Aurora              4\n",
       "none                3\n",
       "Arena               3\n",
       "Hide and Seek       3\n",
       "                   ..\n",
       "Exowar              1\n",
       "BLASK               1\n",
       "Going Medieval      1\n",
       "Game Dev Company    1\n",
       "Night Call          1\n",
       "Name: name, Length: 45907, dtype: int64"
      ]
     },
     "execution_count": 33,
     "metadata": {},
     "output_type": "execute_result"
    }
   ],
   "source": [
    "# Checking values of name\n",
    "games_data['name'].value_counts()"
   ]
  },
  {
   "cell_type": "code",
   "execution_count": 34,
   "metadata": {},
   "outputs": [
    {
     "name": "stdout",
     "output_type": "stream",
     "text": [
      "         appid    name                  developer                  publisher  \\\n",
      "23592   973260  Aurora          Pink Kong Studios          Pink Kong Studios   \n",
      "24608   789720  Aurora            Nicholas Turner            Nicholas Turner   \n",
      "33733  1382380  Aurora  Michel Coelho da Silveira  Michel Coelho da Silveira   \n",
      "45385  1422610  Aurora             BambuseaeGames             BambuseaeGames   \n",
      "\n",
      "       positive  negative            owners  average_forever  average_2weeks  \\\n",
      "23592         1         2       0 .. 20,000                0               0   \n",
      "24608         3         0       0 .. 20,000                0               0   \n",
      "33733         4         0       0 .. 20,000                0               0   \n",
      "45385       298        62  20,000 .. 50,000                0               0   \n",
      "\n",
      "       median_forever  ...  initialprice  discount  ccu  \\\n",
      "23592               0  ...         299.0       0.0    0   \n",
      "24608               0  ...         199.0       0.0    0   \n",
      "33733               0  ...         399.0       0.0    0   \n",
      "45385               0  ...          99.0      33.0    2   \n",
      "\n",
      "                                               languages  \\\n",
      "23592                                            English   \n",
      "24608                                            English   \n",
      "33733                       English, Portuguese - Brazil   \n",
      "45385  English, French, German, Spanish - Spain, Ukra...   \n",
      "\n",
      "                                             genre  \\\n",
      "23592  Animation & Modeling, Design & Illustration   \n",
      "24608        Action, Adventure, Casual, Indie, RPG   \n",
      "33733                        Adventure, Indie, RPG   \n",
      "45385                                Casual, Indie   \n",
      "\n",
      "                                                    tags date_of_release  \\\n",
      "23592  {'Design & Illustration': 20, 'Animation & Mod...    21 Dec, 2018   \n",
      "24608  {'Action': 21, 'Adventure': 21, 'RPG': 21, 'In...     2 Mar, 2018   \n",
      "33733  {'Precision Platformer': 50, 'Action-Adventure...    20 Oct, 2020   \n",
      "45385  {'Sexual Content': 111, 'Nudity': 99, 'Mature'...    18 Nov, 2020   \n",
      "\n",
      "      day_of_release month_of_release  year_of_release  \n",
      "23592             21              Dec             2018  \n",
      "24608              2              Mar             2018  \n",
      "33733             20              Oct             2020  \n",
      "45385             18              Nov             2020  \n",
      "\n",
      "[4 rows x 22 columns]\n"
     ]
    }
   ],
   "source": [
    "# There are 4 games wich have same name , i.e., Aurora\n",
    "# Checking if they are same game\n",
    "print(games_data.loc[games_data['name'] == 'Aurora'])"
   ]
  },
  {
   "cell_type": "code",
   "execution_count": null,
   "metadata": {},
   "outputs": [],
   "source": [
    "# appid, developer and publisher are different for those 4 games named 'Aurora',\n",
    "# this means they are different games "
   ]
  },
  {
   "cell_type": "code",
   "execution_count": null,
   "metadata": {},
   "outputs": [],
   "source": []
  },
  {
   "cell_type": "code",
   "execution_count": 35,
   "metadata": {},
   "outputs": [
    {
     "data": {
      "text/plain": [
       "0 .. 20,000                   31897\n",
       "20,000 .. 50,000               5636\n",
       "50,000 .. 100,000              2945\n",
       "100,000 .. 200,000             2092\n",
       "200,000 .. 500,000             1855\n",
       "500,000 .. 1,000,000            804\n",
       "1,000,000 .. 2,000,000          456\n",
       "2,000,000 .. 5,000,000          288\n",
       "5,000,000 .. 10,000,000          76\n",
       "10,000,000 .. 20,000,000         32\n",
       "20,000,000 .. 50,000,000         16\n",
       "50,000,000 .. 100,000,000         3\n",
       "100,000,000 .. 200,000,000        1\n",
       "Name: owners, dtype: int64"
      ]
     },
     "execution_count": 35,
     "metadata": {},
     "output_type": "execute_result"
    }
   ],
   "source": [
    "# Checking the 'owners' column values\n",
    "games_data['owners'].value_counts()"
   ]
  },
  {
   "cell_type": "code",
   "execution_count": 36,
   "metadata": {},
   "outputs": [],
   "source": [
    "#To make the data more readable, I will change the labels of 'owners'\n",
    "\n",
    "owner_labels ={ '0 .. 20,000'          : '0 to 20k',\n",
    "                '20,000 .. 50,000'     : '20k to 50k',\n",
    "                '50,000 .. 100,000'    : '50k to 100k',\n",
    "                '100,000 .. 200,000'   : '100k to 200k',\n",
    "                '200,000 .. 500,000'   : '200k to 500k',\n",
    "                '500,000 .. 1,000,000' : '500k to 1 mil',\n",
    "                '1,000,000 .. 2,000,000' : '1 mil to 2 mil',\n",
    "                '2,000,000 .. 5,000,000' : '2 mil to 5 mil',\n",
    "                '5,000,000 .. 10,000,000': '5 mil to 10 mil',\n",
    "                '10,000,000 .. 20,000,000'   : '10 mil to 20 mil',\n",
    "                '20,000,000 .. 50,000,000'   : '20 mil to 50 mil',\n",
    "                '50,000,000 .. 100,000,000'  : '50 mil to 100 mil',             \n",
    "                '100,000,000 .. 200,000,000' : '100 mil to 200 mil',        \n",
    "                 }"
   ]
  },
  {
   "cell_type": "code",
   "execution_count": 37,
   "metadata": {},
   "outputs": [],
   "source": [
    "games_data['owners'] = games_data['owners'].map(owner_labels)"
   ]
  },
  {
   "cell_type": "code",
   "execution_count": 38,
   "metadata": {},
   "outputs": [
    {
     "data": {
      "text/plain": [
       "0 to 20k              31897\n",
       "20k to 50k             5636\n",
       "50k to 100k            2945\n",
       "100k to 200k           2092\n",
       "200k to 500k           1855\n",
       "500k to 1 mil           804\n",
       "1 mil to 2 mil          456\n",
       "2 mil to 5 mil          288\n",
       "5 mil to 10 mil          76\n",
       "10 mil to 20 mil         32\n",
       "20 mil to 50 mil         16\n",
       "50 mil to 100 mil         3\n",
       "100 mil to 200 mil        1\n",
       "Name: owners, dtype: int64"
      ]
     },
     "execution_count": 38,
     "metadata": {},
     "output_type": "execute_result"
    }
   ],
   "source": [
    "# Checking the 'owners' column values again with changed labels\n",
    "games_data['owners'].value_counts()"
   ]
  },
  {
   "cell_type": "code",
   "execution_count": 39,
   "metadata": {},
   "outputs": [
    {
     "data": {
      "text/plain": [
       "0 to 20k              0.691894\n",
       "20k to 50k            0.122253\n",
       "50k to 100k           0.063881\n",
       "100k to 200k          0.045379\n",
       "200k to 500k          0.040238\n",
       "500k to 1 mil         0.017440\n",
       "1 mil to 2 mil        0.009891\n",
       "2 mil to 5 mil        0.006247\n",
       "5 mil to 10 mil       0.001649\n",
       "10 mil to 20 mil      0.000694\n",
       "20 mil to 50 mil      0.000347\n",
       "50 mil to 100 mil     0.000065\n",
       "100 mil to 200 mil    0.000022\n",
       "Name: owners, dtype: float64"
      ]
     },
     "execution_count": 39,
     "metadata": {},
     "output_type": "execute_result"
    }
   ],
   "source": [
    "# Checking the % of games owned\n",
    "games_data.owners.value_counts(normalize=True)"
   ]
  },
  {
   "cell_type": "markdown",
   "metadata": {},
   "source": [
    "# 69.18% of games are owned by 0 to 20k players"
   ]
  },
  {
   "cell_type": "markdown",
   "metadata": {},
   "source": [
    "# 0.98% ~ 1% of games are owned by 1 mil to 2 mil players"
   ]
  },
  {
   "cell_type": "code",
   "execution_count": null,
   "metadata": {},
   "outputs": [],
   "source": []
  },
  {
   "cell_type": "code",
   "execution_count": 40,
   "metadata": {},
   "outputs": [
    {
     "data": {
      "text/plain": [
       "<matplotlib.axes._subplots.AxesSubplot at 0x232c04d2688>"
      ]
     },
     "execution_count": 40,
     "metadata": {},
     "output_type": "execute_result"
    },
    {
     "data": {
      "image/png": "[encoded data removed]",
      "text/plain": [
       "<Figure size 1080x360 with 1 Axes>"
      ]
     },
     "metadata": {
      "needs_background": "light"
     },
     "output_type": "display_data"
    }
   ],
   "source": [
    "# Countplot of 'owners'\n",
    "plt.figure( figsize= (15,5) )\n",
    "plt.xticks(rotation=45)\n",
    "sns.countplot(games_data['owners'])"
   ]
  },
  {
   "cell_type": "code",
   "execution_count": null,
   "metadata": {},
   "outputs": [],
   "source": []
  },
  {
   "cell_type": "code",
   "execution_count": 531,
   "metadata": {},
   "outputs": [],
   "source": [
    "# Checking 'developer'"
   ]
  },
  {
   "cell_type": "code",
   "execution_count": 41,
   "metadata": {},
   "outputs": [
    {
     "data": {
      "text/plain": [
       "28920"
      ]
     },
     "execution_count": 41,
     "metadata": {},
     "output_type": "execute_result"
    }
   ],
   "source": [
    "# Number of unique developer \n",
    "games_data['developer'].nunique()"
   ]
  },
  {
   "cell_type": "code",
   "execution_count": 42,
   "metadata": {},
   "outputs": [
    {
     "data": {
      "text/plain": [
       "NaN                           201\n",
       "Choice of Games               119\n",
       "Creobit                        87\n",
       "Laush Dmitriy Sergeevich       85\n",
       "Sokpop Collective              84\n",
       "KOEI TECMO GAMES CO., LTD.     83\n",
       "Hosted Games                   68\n",
       "Boogygames Studios             66\n",
       "Blender Games                  66\n",
       "Elephant Games                 58\n",
       "RewindApp                      58\n",
       "Name: developer, dtype: int64"
      ]
     },
     "execution_count": 42,
     "metadata": {},
     "output_type": "execute_result"
    }
   ],
   "source": [
    "# Checking the top 10 developers\n",
    "games_data['developer'].value_counts(dropna= False).nlargest(11)"
   ]
  },
  {
   "cell_type": "markdown",
   "metadata": {},
   "source": [
    "# Choice of Games is the biggest developer on steam"
   ]
  },
  {
   "cell_type": "code",
   "execution_count": null,
   "metadata": {},
   "outputs": [],
   "source": [
    "# There are 201 games for which developer data is not given"
   ]
  },
  {
   "cell_type": "code",
   "execution_count": 532,
   "metadata": {},
   "outputs": [],
   "source": [
    "# Checking 'publisher'"
   ]
  },
  {
   "cell_type": "code",
   "execution_count": 43,
   "metadata": {},
   "outputs": [
    {
     "data": {
      "text/plain": [
       "24738"
      ]
     },
     "execution_count": 43,
     "metadata": {},
     "output_type": "execute_result"
    }
   ],
   "source": [
    "# Number of unique publisher \n",
    "games_data['publisher'].nunique()"
   ]
  },
  {
   "cell_type": "code",
   "execution_count": 44,
   "metadata": {},
   "outputs": [
    {
     "data": {
      "text/plain": [
       "Big Fish Games     391\n",
       "NaN                166\n",
       "Strategy First     148\n",
       "8floor             136\n",
       "Square Enix        129\n",
       "Ubisoft            126\n",
       "Choice of Games    119\n",
       "Sekai Project      118\n",
       "THQ Nordic         116\n",
       "HH-Games           112\n",
       "SEGA               104\n",
       "Name: publisher, dtype: int64"
      ]
     },
     "execution_count": 44,
     "metadata": {},
     "output_type": "execute_result"
    }
   ],
   "source": [
    "# Checking the top 10 publisher\n",
    "games_data['publisher'].value_counts(dropna= False).nlargest(11)"
   ]
  },
  {
   "cell_type": "markdown",
   "metadata": {},
   "source": [
    "# Big Fish Games is the biggest publisher on steam"
   ]
  },
  {
   "cell_type": "code",
   "execution_count": null,
   "metadata": {},
   "outputs": [],
   "source": [
    "# There are 166 games for which publisher data is not given"
   ]
  },
  {
   "cell_type": "code",
   "execution_count": null,
   "metadata": {},
   "outputs": [],
   "source": []
  },
  {
   "cell_type": "code",
   "execution_count": 45,
   "metadata": {},
   "outputs": [
    {
     "data": {
      "text/plain": [
       "count    4.610100e+04\n",
       "mean     1.396507e+03\n",
       "std      2.902029e+04\n",
       "min      0.000000e+00\n",
       "25%      5.000000e+00\n",
       "50%      2.000000e+01\n",
       "75%      1.180000e+02\n",
       "max      5.164509e+06\n",
       "Name: positive, dtype: float64"
      ]
     },
     "execution_count": 45,
     "metadata": {},
     "output_type": "execute_result"
    }
   ],
   "source": [
    "# checking the 'positive' column\n",
    "games_data['positive'].describe()"
   ]
  },
  {
   "cell_type": "code",
   "execution_count": 370,
   "metadata": {},
   "outputs": [],
   "source": [
    "# minimum value in 'positive' column = 0\n",
    "# This means there games for which no one has given positive reviews"
   ]
  },
  {
   "cell_type": "code",
   "execution_count": 46,
   "metadata": {},
   "outputs": [
    {
     "data": {
      "text/plain": [
       "count     46101.000000\n",
       "mean        231.081235\n",
       "std        5542.087954\n",
       "min           0.000000\n",
       "25%           1.000000\n",
       "50%           7.000000\n",
       "75%          36.000000\n",
       "max      822166.000000\n",
       "Name: negative, dtype: float64"
      ]
     },
     "execution_count": 46,
     "metadata": {},
     "output_type": "execute_result"
    }
   ],
   "source": [
    "# Checking the 'negative' column\n",
    "games_data['negative'].describe()"
   ]
  },
  {
   "cell_type": "code",
   "execution_count": null,
   "metadata": {},
   "outputs": [],
   "source": [
    "# minimum value in 'negative' column = 0\n",
    "# This means there games for which no one has given negative reviews"
   ]
  },
  {
   "cell_type": "code",
   "execution_count": 47,
   "metadata": {},
   "outputs": [],
   "source": [
    "# Creating a new column 'positive_percent' which will show % of positive reviews to total reviews\n",
    "# positive_percent = positive/ ( positive+ negative )\n",
    "\n",
    "# Assigning 0 to 'positive_percent'\n",
    "games_data['positive_percent'] = 0"
   ]
  },
  {
   "cell_type": "code",
   "execution_count": 48,
   "metadata": {},
   "outputs": [],
   "source": [
    "# There could be games for which positive and negative both are 0\n",
    "# Defining filter for this condition\n",
    "filt = (games_data['positive']==0) & (games_data['negative']==0)"
   ]
  },
  {
   "cell_type": "code",
   "execution_count": 49,
   "metadata": {},
   "outputs": [],
   "source": [
    "# Assigning values of 'positive_percent' based on above equation\n",
    "games_data.loc[~filt,'positive_percent'] = games_data.loc[~filt,'positive'] / (games_data.loc[~filt,'positive']+ games_data.loc[~filt,'negative'])"
   ]
  },
  {
   "cell_type": "code",
   "execution_count": 50,
   "metadata": {},
   "outputs": [
    {
     "data": {
      "text/plain": [
       "count    46101.000000\n",
       "mean         0.724124\n",
       "std          0.249898\n",
       "min          0.000000\n",
       "25%          0.600000\n",
       "50%          0.785714\n",
       "75%          0.916667\n",
       "max          1.000000\n",
       "Name: positive_percent, dtype: float64"
      ]
     },
     "execution_count": 50,
     "metadata": {},
     "output_type": "execute_result"
    }
   ],
   "source": [
    "# The value of 'positive_percent' will range from 0 to 1\n",
    "\n",
    "# Checking the 'positive_percent' column\n",
    "games_data['positive_percent'].describe()"
   ]
  },
  {
   "cell_type": "code",
   "execution_count": 51,
   "metadata": {},
   "outputs": [
    {
     "data": {
      "text/plain": [
       "<Figure size 432x288 with 0 Axes>"
      ]
     },
     "metadata": {},
     "output_type": "display_data"
    },
    {
     "data": {
      "image/png": "[encoded data removed]",
      "text/plain": [
       "<Figure size 1080x360 with 1 Axes>"
      ]
     },
     "metadata": {
      "needs_background": "light"
     },
     "output_type": "display_data"
    }
   ],
   "source": [
    "# Plotting histogram of 'positive_percent'\n",
    "plt.clf()\n",
    "plt.figure( figsize= (15,5) )\n",
    "plt.hist(games_data['positive_percent'], bins= 10, color ='#3399ff')\n",
    "plt.title('Histogram of Positive Percent')\n",
    "plt.show()"
   ]
  },
  {
   "cell_type": "markdown",
   "metadata": {},
   "source": [
    "# Median positive percent for all games on steam is 0.78"
   ]
  },
  {
   "cell_type": "code",
   "execution_count": null,
   "metadata": {},
   "outputs": [],
   "source": []
  },
  {
   "cell_type": "code",
   "execution_count": null,
   "metadata": {},
   "outputs": [],
   "source": [
    "### Price of games"
   ]
  },
  {
   "cell_type": "code",
   "execution_count": 52,
   "metadata": {},
   "outputs": [
    {
     "data": {
      "text/plain": [
       "28"
      ]
     },
     "execution_count": 52,
     "metadata": {},
     "output_type": "execute_result"
    }
   ],
   "source": [
    "# Checking the number of null values in 'price'\n",
    "games_data['price'].isnull().sum()"
   ]
  },
  {
   "cell_type": "code",
   "execution_count": 53,
   "metadata": {},
   "outputs": [],
   "source": [
    "# Number of null values in 'price' = 28\n",
    "\n",
    "# When price is null value, imputing it with 0.001\n",
    "# Since price is given in cents, 0.001 is a very small value which will not have \n",
    "games_data['price'] = np.where(games_data['price'].isnull(), 0.001, games_data['price'])"
   ]
  },
  {
   "cell_type": "code",
   "execution_count": 54,
   "metadata": {},
   "outputs": [],
   "source": [
    "# 'price' is given as float, so converting it to int\n",
    "games_data['price'] = games_data['price'].apply(lambda x: int(x or 0))"
   ]
  },
  {
   "cell_type": "code",
   "execution_count": 55,
   "metadata": {},
   "outputs": [],
   "source": [
    "# Also, 'price' is given in cents\n",
    "# I will divide it by 100 to get 'price' in US dollars\n",
    "games_data['price'] = games_data['price']/100"
   ]
  },
  {
   "cell_type": "code",
   "execution_count": 56,
   "metadata": {},
   "outputs": [
    {
     "data": {
      "text/plain": [
       "count    46101.000000\n",
       "mean         7.482190\n",
       "std         10.984714\n",
       "min          0.000000\n",
       "25%          0.990000\n",
       "50%          4.990000\n",
       "75%          9.990000\n",
       "max        999.000000\n",
       "Name: price, dtype: float64"
      ]
     },
     "execution_count": 56,
     "metadata": {},
     "output_type": "execute_result"
    }
   ],
   "source": [
    "# Checking the 'price' column\n",
    "games_data['price'].describe()"
   ]
  },
  {
   "cell_type": "code",
   "execution_count": 474,
   "metadata": {},
   "outputs": [],
   "source": [
    "# minimum price of games = 0; this means they are free to play games\n",
    "# maximum price of games = USD 999"
   ]
  },
  {
   "cell_type": "markdown",
   "metadata": {},
   "source": [
    "# Median price of games on steam = USD 4.99 ~ USD 5"
   ]
  },
  {
   "cell_type": "code",
   "execution_count": 57,
   "metadata": {},
   "outputs": [
    {
     "data": {
      "text/plain": [
       "7132"
      ]
     },
     "execution_count": 57,
     "metadata": {},
     "output_type": "execute_result"
    }
   ],
   "source": [
    "# checking the number of free to play games on steam\n",
    "len(games_data[games_data['price']==0])"
   ]
  },
  {
   "cell_type": "code",
   "execution_count": 58,
   "metadata": {},
   "outputs": [],
   "source": [
    "# Total number of games on steam = 46101\n",
    "\n",
    "# % of free to play games on steam = (7132/46101)*100\n",
    "#                                  = 15.47%"
   ]
  },
  {
   "cell_type": "markdown",
   "metadata": {},
   "source": [
    "# 15.47% of all games on steam are free to play games "
   ]
  },
  {
   "cell_type": "code",
   "execution_count": 59,
   "metadata": {},
   "outputs": [
    {
     "data": {
      "image/png": "[encoded data removed]",
      "text/plain": [
       "<Figure size 1080x360 with 1 Axes>"
      ]
     },
     "metadata": {
      "needs_background": "light"
     },
     "output_type": "display_data"
    }
   ],
   "source": [
    "# Plotting boxplot of 'price'\n",
    "plt.figure( figsize= (15,5) )\n",
    "sns.boxplot(games_data['price'])\n",
    "plt.title('Box plot Price')\n",
    "plt.show()"
   ]
  },
  {
   "cell_type": "code",
   "execution_count": null,
   "metadata": {},
   "outputs": [],
   "source": [
    "# Above boxplot shows that there are outliers in price\n",
    "# Taking the lower bound as 0\n",
    "# And the upper bound as Q3 + 1.5*IQR values of price"
   ]
  },
  {
   "cell_type": "code",
   "execution_count": 60,
   "metadata": {},
   "outputs": [],
   "source": [
    "price = games_data['price']"
   ]
  },
  {
   "cell_type": "code",
   "execution_count": 61,
   "metadata": {},
   "outputs": [
    {
     "data": {
      "text/plain": [
       "9.0"
      ]
     },
     "execution_count": 61,
     "metadata": {},
     "output_type": "execute_result"
    }
   ],
   "source": [
    "# Finding Inter quartile range\n",
    "iqr = np.subtract(*np.percentile(price, [75, 25]))\n",
    "iqr"
   ]
  },
  {
   "cell_type": "code",
   "execution_count": 62,
   "metadata": {},
   "outputs": [
    {
     "name": "stdout",
     "output_type": "stream",
     "text": [
      "23.490000000000002\n"
     ]
    }
   ],
   "source": [
    "# Finding Q3 + 1.5*IQR\n",
    "print(np.percentile(price, 75) + (1.5*iqr))"
   ]
  },
  {
   "cell_type": "code",
   "execution_count": 63,
   "metadata": {},
   "outputs": [
    {
     "data": {
      "text/plain": [
       "count    36760.000000\n",
       "mean         7.085319\n",
       "std          5.450912\n",
       "min          0.490000\n",
       "25%          2.990000\n",
       "50%          4.990000\n",
       "75%          9.990000\n",
       "max         22.990000\n",
       "Name: price, dtype: float64"
      ]
     },
     "execution_count": 63,
     "metadata": {},
     "output_type": "execute_result"
    }
   ],
   "source": [
    "# checking stats for price between 0 and 23.5 USD\n",
    "games_data.loc[(games_data['price']>0) & (games_data['price']<23.5) ,'price'].describe()"
   ]
  },
  {
   "cell_type": "code",
   "execution_count": 64,
   "metadata": {},
   "outputs": [
    {
     "data": {
      "text/plain": [
       "<Figure size 432x288 with 0 Axes>"
      ]
     },
     "metadata": {},
     "output_type": "display_data"
    },
    {
     "data": {
      "image/png": "[encoded data removed]",
      "text/plain": [
       "<Figure size 1080x360 with 1 Axes>"
      ]
     },
     "metadata": {
      "needs_background": "light"
     },
     "output_type": "display_data"
    }
   ],
   "source": [
    "# Plotting histogram of 'price'\n",
    "plt.clf()\n",
    "plt.figure( figsize= (15,5) )\n",
    "plt.hist(games_data.loc[(games_data['price']>0) & (games_data['price']<23.5),'price'], bins= 24, color ='#3399ff')\n",
    "plt.title('Histogram of Price between 0 and 23.5 USD')\n",
    "plt.show()"
   ]
  },
  {
   "cell_type": "markdown",
   "metadata": {},
   "source": [
    "# There are specific price points for games on steam which are 1, 5, 10, 15, 20 USD"
   ]
  },
  {
   "cell_type": "markdown",
   "metadata": {},
   "source": [
    "# Nearly 5200 number of games are priced at 1, 5 and 10 USD"
   ]
  },
  {
   "cell_type": "code",
   "execution_count": 65,
   "metadata": {},
   "outputs": [],
   "source": [
    "# Hypothesis: Free to play games are owned by more number of players as compared to paid games\n",
    "# To check the above hypothesis, I will subset the entire dataset into 2 parts\n",
    "# First part will have owners of free-to-play games \n",
    "# Second part will have owners of paid-games\n",
    "\n",
    "games_FTP_owners = games_data[['price','owners']]\n",
    "games_FTP_owners = games_FTP_owners[games_FTP_owners['price']==0]\n",
    "\n",
    "games_paid_owners = games_data[['price','owners']]\n",
    "games_paid_owners = games_paid_owners[games_paid_owners['price']!=0]"
   ]
  },
  {
   "cell_type": "code",
   "execution_count": 801,
   "metadata": {},
   "outputs": [],
   "source": [
    "# Since there are more paid-games as compared to free-to-play games, I will normalize the data\n",
    "# This will show proper comparison of owners for paid games vs free-to-play games"
   ]
  },
  {
   "cell_type": "code",
   "execution_count": 66,
   "metadata": {},
   "outputs": [
    {
     "data": {
      "text/plain": [
       "0 to 20k              0.530566\n",
       "20k to 50k            0.178491\n",
       "50k to 100k           0.099832\n",
       "100k to 200k          0.070667\n",
       "200k to 500k          0.059030\n",
       "500k to 1 mil         0.027902\n",
       "1 mil to 2 mil        0.016265\n",
       "2 mil to 5 mil        0.010656\n",
       "5 mil to 10 mil       0.003365\n",
       "10 mil to 20 mil      0.001683\n",
       "20 mil to 50 mil      0.001122\n",
       "50 mil to 100 mil     0.000280\n",
       "100 mil to 200 mil    0.000140\n",
       "Name: owners, dtype: float64"
      ]
     },
     "execution_count": 66,
     "metadata": {},
     "output_type": "execute_result"
    }
   ],
   "source": [
    "# owners of free-to-play games\n",
    "games_FTP_owners['owners'].value_counts(normalize=True)"
   ]
  },
  {
   "cell_type": "code",
   "execution_count": 67,
   "metadata": {},
   "outputs": [
    {
     "data": {
      "text/plain": [
       "0 to 20k             0.721420\n",
       "20k to 50k           0.111961\n",
       "50k to 100k          0.057302\n",
       "100k to 200k         0.040750\n",
       "200k to 500k         0.036798\n",
       "500k to 1 mil        0.015525\n",
       "1 mil to 2 mil       0.008725\n",
       "2 mil to 5 mil       0.005440\n",
       "5 mil to 10 mil      0.001334\n",
       "10 mil to 20 mil     0.000513\n",
       "20 mil to 50 mil     0.000205\n",
       "50 mil to 100 mil    0.000026\n",
       "Name: owners, dtype: float64"
      ]
     },
     "execution_count": 67,
     "metadata": {},
     "output_type": "execute_result"
    }
   ],
   "source": [
    "# owners of paid-games\n",
    "games_paid_owners['owners'].value_counts(normalize=True)"
   ]
  },
  {
   "cell_type": "code",
   "execution_count": 803,
   "metadata": {},
   "outputs": [],
   "source": [
    "# For free-to-play games\n",
    "# 53% of free-to-play games are owned by less than 20k players\n",
    "# 9.9% ~ 10% of free-to-play games are owned by 50k to 100k players\n",
    "# 1% of free-to-play games are owned by 2 mil to 5 mil players \n",
    "\n",
    "\n",
    "# Adding all the values for categories between (1 mil to 2 mil) and (50 mil to 100 mil)\n",
    "### 3.35% of free-to-play games are played by more than 1 mil players"
   ]
  },
  {
   "cell_type": "code",
   "execution_count": 804,
   "metadata": {},
   "outputs": [],
   "source": [
    "# For paid games\n",
    "# 72% of paid games are owned by less than 20k players\n",
    "# 11.1% of paid games are owned by 20k to 50k players\n",
    "# 1.5% of paid games are owned by 500k to 1 mil players \n",
    "\n",
    "\n",
    "# Adding all the values for categories between (1 mil to 2 mil) and (50 mil to 100 mil)\n",
    "### 1.3% of paid games are played by more than 1 mil players"
   ]
  },
  {
   "cell_type": "markdown",
   "metadata": {},
   "source": [
    "# When player base is less than 20k, more players are playing paid games"
   ]
  },
  {
   "cell_type": "markdown",
   "metadata": {},
   "source": [
    "# But as player base crosses 1 mil, more players are playing free-to-play-games"
   ]
  },
  {
   "cell_type": "code",
   "execution_count": null,
   "metadata": {},
   "outputs": [],
   "source": []
  },
  {
   "cell_type": "code",
   "execution_count": 68,
   "metadata": {},
   "outputs": [
    {
     "data": {
      "text/plain": [
       "9.99"
      ]
     },
     "execution_count": 68,
     "metadata": {},
     "output_type": "execute_result"
    }
   ],
   "source": [
    "# Checking the median price for biggest publisher, i.e, 'Big Fish Games'\n",
    "games_data[games_data['publisher']=='Big Fish Games'].price.median()"
   ]
  },
  {
   "cell_type": "markdown",
   "metadata": {},
   "source": [
    "# Median price for Big Fish Games (biggest publisher) is USD 9.99"
   ]
  },
  {
   "cell_type": "code",
   "execution_count": null,
   "metadata": {},
   "outputs": [],
   "source": []
  },
  {
   "cell_type": "code",
   "execution_count": 69,
   "metadata": {},
   "outputs": [
    {
     "data": {
      "text/plain": [
       "4.99"
      ]
     },
     "execution_count": 69,
     "metadata": {},
     "output_type": "execute_result"
    }
   ],
   "source": [
    "# Checking the median price for biggest developer, i.e, 'Choice of Games'\n",
    "games_data[games_data['publisher']=='Choice of Games'].price.median()"
   ]
  },
  {
   "cell_type": "markdown",
   "metadata": {},
   "source": [
    "# Median price for Choice of Games (biggest developer) is USD 4.99"
   ]
  },
  {
   "cell_type": "code",
   "execution_count": null,
   "metadata": {},
   "outputs": [],
   "source": []
  },
  {
   "cell_type": "code",
   "execution_count": null,
   "metadata": {},
   "outputs": [],
   "source": [
    "### Time spent on playing"
   ]
  },
  {
   "cell_type": "code",
   "execution_count": 383,
   "metadata": {},
   "outputs": [],
   "source": [
    "# There are 4 columns related to playtime, they are:\n",
    "# 1. 'average_forever'\n",
    "# 2. 'average_2weeks'\n",
    "# 3. 'median_forever'\n",
    "# 4. 'median_2weeks'"
   ]
  },
  {
   "cell_type": "code",
   "execution_count": 384,
   "metadata": {},
   "outputs": [],
   "source": [
    "# 1. 'average_forever'\n",
    "# Hypothesis: When a game is recently launched, 'average_forever' is high, but reduces with time after launch\n",
    "# We don't have relevant data to test this hypothesis\n",
    "# Hence, I will not take 'average_forever' to analyze the time spent on playing"
   ]
  },
  {
   "cell_type": "code",
   "execution_count": 385,
   "metadata": {},
   "outputs": [],
   "source": [
    "# 2. 'average_2weeks'\n",
    "# Applying similar logic as given for 'average_forever'\n",
    "# I will not take 'average_2weeks' to analyze the time spent on playing"
   ]
  },
  {
   "cell_type": "code",
   "execution_count": 386,
   "metadata": {},
   "outputs": [],
   "source": [
    "# 3. 'median_forever'\n",
    "# Seems like the most relevant out of above 4 columns to analyze playtime of games"
   ]
  },
  {
   "cell_type": "code",
   "execution_count": 70,
   "metadata": {},
   "outputs": [],
   "source": [
    "# I will delete other 3 columns related to playtime\n",
    "del games_data['average_forever']\n",
    "del games_data['average_2weeks']\n",
    "del games_data['median_2weeks']"
   ]
  },
  {
   "cell_type": "code",
   "execution_count": 71,
   "metadata": {},
   "outputs": [
    {
     "data": {
      "text/plain": [
       "count     46101.000000\n",
       "mean        142.421271\n",
       "std        2570.410093\n",
       "min           0.000000\n",
       "25%           0.000000\n",
       "50%           0.000000\n",
       "75%           0.000000\n",
       "max      428228.000000\n",
       "Name: median_forever, dtype: float64"
      ]
     },
     "execution_count": 71,
     "metadata": {},
     "output_type": "execute_result"
    }
   ],
   "source": [
    "# Checking the stats for 'median_forever'\n",
    "games_data['median_forever'].describe()"
   ]
  },
  {
   "cell_type": "code",
   "execution_count": 72,
   "metadata": {},
   "outputs": [
    {
     "data": {
      "text/plain": [
       "34742"
      ]
     },
     "execution_count": 72,
     "metadata": {},
     "output_type": "execute_result"
    }
   ],
   "source": [
    "# minimum value of 'median_forever' = 0, this means that players are not actively playing these games\n",
    "# Checking the number of games which have 'median_forever' = 0\n",
    "len(games_data[games_data['median_forever']==0])"
   ]
  },
  {
   "cell_type": "code",
   "execution_count": 53,
   "metadata": {},
   "outputs": [],
   "source": [
    "# Total number of games = 46101\n",
    "# Total number of games with 0 'median_forever' = 34742\n",
    "\n",
    "# % of games on which players are not active = (34742 / 46101)*100\n",
    "#                                            = 75.36%"
   ]
  },
  {
   "cell_type": "markdown",
   "metadata": {},
   "source": [
    "# Players are not active on 75.36% of games"
   ]
  },
  {
   "cell_type": "code",
   "execution_count": null,
   "metadata": {},
   "outputs": [],
   "source": []
  },
  {
   "cell_type": "code",
   "execution_count": 73,
   "metadata": {},
   "outputs": [],
   "source": [
    "# Now, checking games with 'median_forever' >0\n",
    "median_forever_active_players = games_data['median_forever']\n",
    "median_forever_active_players = median_forever_active_players[median_forever_active_players>0]"
   ]
  },
  {
   "cell_type": "code",
   "execution_count": 74,
   "metadata": {},
   "outputs": [
    {
     "data": {
      "text/plain": [
       "count     11359.000000\n",
       "mean        578.022977\n",
       "std        5154.105288\n",
       "min           1.000000\n",
       "25%          67.000000\n",
       "50%         202.000000\n",
       "75%         348.000000\n",
       "max      428228.000000\n",
       "Name: median_forever, dtype: float64"
      ]
     },
     "execution_count": 74,
     "metadata": {},
     "output_type": "execute_result"
    }
   ],
   "source": [
    "# Checking stats for 'median_forever' >0 \n",
    "median_forever_active_players.describe()"
   ]
  },
  {
   "cell_type": "code",
   "execution_count": 75,
   "metadata": {},
   "outputs": [
    {
     "data": {
      "text/plain": [
       "<matplotlib.axes._subplots.AxesSubplot at 0x232c024c588>"
      ]
     },
     "execution_count": 75,
     "metadata": {},
     "output_type": "execute_result"
    },
    {
     "data": {
      "image/png": "[encoded data removed]",
      "text/plain": [
       "<Figure size 432x288 with 1 Axes>"
      ]
     },
     "metadata": {
      "needs_background": "light"
     },
     "output_type": "display_data"
    }
   ],
   "source": [
    "# Checking boxplot for outliers\n",
    "sns.boxplot(median_forever_active_players)"
   ]
  },
  {
   "cell_type": "code",
   "execution_count": 57,
   "metadata": {},
   "outputs": [],
   "source": [
    "# There are handful of games which have 'median_forever' around 100,000 minutes\n",
    "# Now, a 'median_forever' value of 60,000 minutes means, the game has overall median playtime of 1,000 hours\n",
    "# Further splitting the 'median_forever' with values < 60,000 minutes"
   ]
  },
  {
   "cell_type": "code",
   "execution_count": 76,
   "metadata": {},
   "outputs": [
    {
     "data": {
      "text/plain": [
       "count    11351.000000\n",
       "mean       477.110475\n",
       "std       1904.793891\n",
       "min          1.000000\n",
       "25%         67.000000\n",
       "50%        201.000000\n",
       "75%        347.000000\n",
       "max      54858.000000\n",
       "Name: median_forever, dtype: float64"
      ]
     },
     "execution_count": 76,
     "metadata": {},
     "output_type": "execute_result"
    }
   ],
   "source": [
    "# 'median_forever' < 60,000 minutes\n",
    "median_forever_active_players_1 = median_forever_active_players[median_forever_active_players<60000]\n",
    "median_forever_active_players_1.describe()"
   ]
  },
  {
   "cell_type": "code",
   "execution_count": 814,
   "metadata": {},
   "outputs": [],
   "source": [
    "# There are 11,351 games with median playtime between 0 and 1,000 hours\n",
    "# Also, Q1 for above distribution is 67 min\n",
    "# So, I will check the number of games which have 'median_forever' between 0 and 60 minutes"
   ]
  },
  {
   "cell_type": "code",
   "execution_count": 77,
   "metadata": {},
   "outputs": [
    {
     "data": {
      "text/plain": [
       "2678"
      ]
     },
     "execution_count": 77,
     "metadata": {},
     "output_type": "execute_result"
    }
   ],
   "source": [
    "# Number of games which have median playtime of less than 60 minutes\n",
    "len(median_forever_active_players_1[median_forever_active_players_1<=60])"
   ]
  },
  {
   "cell_type": "code",
   "execution_count": 61,
   "metadata": {},
   "outputs": [],
   "source": [
    "# Total number of active games = 11358\n",
    "# Number of games which have median playtime of less than 60 minutes = 2678\n",
    "\n",
    "# % of games which have less than 60 minutes median playtime = (2678/11358)*100\n",
    "#                                                            = 23.57%"
   ]
  },
  {
   "cell_type": "markdown",
   "metadata": {},
   "source": [
    "# 23.57% of active games have less than 1 hour of median playtime"
   ]
  },
  {
   "cell_type": "code",
   "execution_count": null,
   "metadata": {},
   "outputs": [],
   "source": []
  },
  {
   "cell_type": "code",
   "execution_count": 78,
   "metadata": {},
   "outputs": [],
   "source": [
    "# 'median_forever' with values > 60,000 minutes\n",
    "median_forever_active_players_2 = median_forever_active_players[median_forever_active_players>=60000]"
   ]
  },
  {
   "cell_type": "code",
   "execution_count": 79,
   "metadata": {},
   "outputs": [
    {
     "data": {
      "text/plain": [
       "count         8.000000\n",
       "mean     143760.250000\n",
       "std      117362.503131\n",
       "min       61106.000000\n",
       "25%       95108.000000\n",
       "50%      106378.000000\n",
       "75%      122007.000000\n",
       "max      428228.000000\n",
       "Name: median_forever, dtype: float64"
      ]
     },
     "execution_count": 79,
     "metadata": {},
     "output_type": "execute_result"
    }
   ],
   "source": [
    "# 'median_forever' >= 60,000 minutes\n",
    "median_forever_active_players_2.describe()"
   ]
  },
  {
   "cell_type": "code",
   "execution_count": 80,
   "metadata": {},
   "outputs": [],
   "source": [
    "# Checking the data for 8 games with highest 'median_forever' values\n",
    "top_8_median_forever = games_data.nlargest(8,'median_forever')"
   ]
  },
  {
   "cell_type": "code",
   "execution_count": 81,
   "metadata": {},
   "outputs": [
    {
     "data": {
      "text/html": [
       "<div>\n",
       "<style scoped>\n",
       "    .dataframe tbody tr th:only-of-type {\n",
       "        vertical-align: middle;\n",
       "    }\n",
       "\n",
       "    .dataframe tbody tr th {\n",
       "        vertical-align: top;\n",
       "    }\n",
       "\n",
       "    .dataframe thead th {\n",
       "        text-align: right;\n",
       "    }\n",
       "</style>\n",
       "<table border=\"1\" class=\"dataframe\">\n",
       "  <thead>\n",
       "    <tr style=\"text-align: right;\">\n",
       "      <th></th>\n",
       "      <th>appid</th>\n",
       "      <th>name</th>\n",
       "      <th>developer</th>\n",
       "      <th>publisher</th>\n",
       "      <th>owners</th>\n",
       "      <th>median_forever</th>\n",
       "      <th>price</th>\n",
       "      <th>genre</th>\n",
       "      <th>date_of_release</th>\n",
       "    </tr>\n",
       "  </thead>\n",
       "  <tbody>\n",
       "    <tr>\n",
       "      <td>36755</td>\n",
       "      <td>685310</td>\n",
       "      <td>Transport Defender</td>\n",
       "      <td>Coconut Shavers</td>\n",
       "      <td>Coconut Shavers</td>\n",
       "      <td>100k to 200k</td>\n",
       "      <td>428228</td>\n",
       "      <td>0.00</td>\n",
       "      <td>Casual, Free to Play, Strategy</td>\n",
       "      <td>11 Sep, 2017</td>\n",
       "    </tr>\n",
       "    <tr>\n",
       "      <td>10029</td>\n",
       "      <td>1013320</td>\n",
       "      <td>Firestone Idle RPG</td>\n",
       "      <td>Holyday Studios</td>\n",
       "      <td>Holyday Studios</td>\n",
       "      <td>200k to 500k</td>\n",
       "      <td>146052</td>\n",
       "      <td>0.00</td>\n",
       "      <td>Adventure, Free to Play, Indie, RPG, Early Access</td>\n",
       "      <td>26 Sep, 2019</td>\n",
       "    </tr>\n",
       "    <tr>\n",
       "      <td>40438</td>\n",
       "      <td>524660</td>\n",
       "      <td>RutonyChat</td>\n",
       "      <td>Rutony Studio</td>\n",
       "      <td>Rutony Studio</td>\n",
       "      <td>100k to 200k</td>\n",
       "      <td>113992</td>\n",
       "      <td>14.99</td>\n",
       "      <td>Animation &amp; Modeling, Design &amp; Illustration, U...</td>\n",
       "      <td>19 Sep, 2016</td>\n",
       "    </tr>\n",
       "    <tr>\n",
       "      <td>45180</td>\n",
       "      <td>479100</td>\n",
       "      <td>Music Wars Empire</td>\n",
       "      <td>Antuan Johnson</td>\n",
       "      <td>Music Wars</td>\n",
       "      <td>20k to 50k</td>\n",
       "      <td>108634</td>\n",
       "      <td>14.99</td>\n",
       "      <td>Indie, Simulation, Strategy</td>\n",
       "      <td>1 Jun, 2016</td>\n",
       "    </tr>\n",
       "    <tr>\n",
       "      <td>21127</td>\n",
       "      <td>892420</td>\n",
       "      <td>懒人修仙传</td>\n",
       "      <td>托更的修罗</td>\n",
       "      <td>托更的修罗</td>\n",
       "      <td>200k to 500k</td>\n",
       "      <td>104122</td>\n",
       "      <td>3.99</td>\n",
       "      <td>Casual, Indie, RPG, Simulation</td>\n",
       "      <td>15 Nov, 2018</td>\n",
       "    </tr>\n",
       "    <tr>\n",
       "      <td>16744</td>\n",
       "      <td>2800</td>\n",
       "      <td>X2: The Threat</td>\n",
       "      <td>Egosoft</td>\n",
       "      <td>Egosoft</td>\n",
       "      <td>200k to 500k</td>\n",
       "      <td>96242</td>\n",
       "      <td>4.99</td>\n",
       "      <td>Strategy</td>\n",
       "      <td>3 Dec, 2003</td>\n",
       "    </tr>\n",
       "    <tr>\n",
       "      <td>41153</td>\n",
       "      <td>1283970</td>\n",
       "      <td>YoloMouse</td>\n",
       "      <td>Dragonrise Games</td>\n",
       "      <td>Dragonrise Games</td>\n",
       "      <td>100k to 200k</td>\n",
       "      <td>91706</td>\n",
       "      <td>3.99</td>\n",
       "      <td>Animation &amp; Modeling, Design &amp; Illustration, E...</td>\n",
       "      <td>1 May, 2020</td>\n",
       "    </tr>\n",
       "    <tr>\n",
       "      <td>42733</td>\n",
       "      <td>1173510</td>\n",
       "      <td>XSOverlay</td>\n",
       "      <td>Xiexe</td>\n",
       "      <td>Xiexe</td>\n",
       "      <td>50k to 100k</td>\n",
       "      <td>61106</td>\n",
       "      <td>9.99</td>\n",
       "      <td>Utilities, Early Access</td>\n",
       "      <td>3 Mar, 2020</td>\n",
       "    </tr>\n",
       "  </tbody>\n",
       "</table>\n",
       "</div>"
      ],
      "text/plain": [
       "         appid                name         developer         publisher  \\\n",
       "36755   685310  Transport Defender   Coconut Shavers   Coconut Shavers   \n",
       "10029  1013320  Firestone Idle RPG   Holyday Studios   Holyday Studios   \n",
       "40438   524660          RutonyChat     Rutony Studio     Rutony Studio   \n",
       "45180   479100   Music Wars Empire    Antuan Johnson        Music Wars   \n",
       "21127   892420               懒人修仙传             托更的修罗             托更的修罗   \n",
       "16744     2800      X2: The Threat           Egosoft           Egosoft   \n",
       "41153  1283970           YoloMouse  Dragonrise Games  Dragonrise Games   \n",
       "42733  1173510           XSOverlay             Xiexe             Xiexe   \n",
       "\n",
       "             owners  median_forever  price  \\\n",
       "36755  100k to 200k          428228   0.00   \n",
       "10029  200k to 500k          146052   0.00   \n",
       "40438  100k to 200k          113992  14.99   \n",
       "45180    20k to 50k          108634  14.99   \n",
       "21127  200k to 500k          104122   3.99   \n",
       "16744  200k to 500k           96242   4.99   \n",
       "41153  100k to 200k           91706   3.99   \n",
       "42733   50k to 100k           61106   9.99   \n",
       "\n",
       "                                                   genre date_of_release  \n",
       "36755                     Casual, Free to Play, Strategy    11 Sep, 2017  \n",
       "10029  Adventure, Free to Play, Indie, RPG, Early Access    26 Sep, 2019  \n",
       "40438  Animation & Modeling, Design & Illustration, U...    19 Sep, 2016  \n",
       "45180                        Indie, Simulation, Strategy     1 Jun, 2016  \n",
       "21127                     Casual, Indie, RPG, Simulation    15 Nov, 2018  \n",
       "16744                                           Strategy     3 Dec, 2003  \n",
       "41153  Animation & Modeling, Design & Illustration, E...     1 May, 2020  \n",
       "42733                            Utilities, Early Access     3 Mar, 2020  "
      ]
     },
     "execution_count": 81,
     "metadata": {},
     "output_type": "execute_result"
    }
   ],
   "source": [
    "top_8_median_forever[['appid', 'name','developer','publisher', 'owners','median_forever',\n",
    "                      'price', 'genre', 'date_of_release' ]]"
   ]
  },
  {
   "cell_type": "code",
   "execution_count": 821,
   "metadata": {},
   "outputs": [],
   "source": [
    "# Observations for above\n",
    "# All games have owners less than 500k\n",
    "# 2 out of 8 are free-to-play games\n",
    "# YoloMouse is actually not a game"
   ]
  },
  {
   "cell_type": "code",
   "execution_count": null,
   "metadata": {},
   "outputs": [],
   "source": []
  },
  {
   "cell_type": "code",
   "execution_count": null,
   "metadata": {},
   "outputs": [],
   "source": [
    "### Date of Release"
   ]
  },
  {
   "cell_type": "code",
   "execution_count": 82,
   "metadata": {},
   "outputs": [],
   "source": [
    "# Defining peroper order of months\n",
    "month_order = [ 'Jan', 'Feb',  'Mar', 'Apr', 'May', 'June','July', 'Aug', 'Sept','Oct', 'Nov','Dec']"
   ]
  },
  {
   "cell_type": "code",
   "execution_count": 83,
   "metadata": {},
   "outputs": [
    {
     "data": {
      "text/plain": [
       "Text(0.5, 1.0, 'Countplot for Month of Release')"
      ]
     },
     "execution_count": 83,
     "metadata": {},
     "output_type": "execute_result"
    },
    {
     "data": {
      "image/png": "[encoded data removed]",
      "text/plain": [
       "<Figure size 1080x360 with 1 Axes>"
      ]
     },
     "metadata": {
      "needs_background": "light"
     },
     "output_type": "display_data"
    }
   ],
   "source": [
    "# Countplot of 'month_of_release'\n",
    "plt.figure(figsize= (15,5))\n",
    "sns.countplot(games_data['month_of_release'] , order = month_order )\n",
    "plt.xlabel('Month of Release')\n",
    "plt.ylabel('Count')\n",
    "plt.title('Countplot for Month of Release')"
   ]
  },
  {
   "cell_type": "markdown",
   "metadata": {},
   "source": [
    "# Maximum number of games are released in month of August"
   ]
  },
  {
   "cell_type": "markdown",
   "metadata": {},
   "source": [
    "# The difference between games released in August and July (2nd highest) is not significantly large"
   ]
  },
  {
   "cell_type": "markdown",
   "metadata": {},
   "source": [
    "# Release of games are spread evenly across all months "
   ]
  },
  {
   "cell_type": "code",
   "execution_count": null,
   "metadata": {},
   "outputs": [],
   "source": [
    "# Year of release"
   ]
  },
  {
   "cell_type": "code",
   "execution_count": 84,
   "metadata": {},
   "outputs": [],
   "source": [
    "release_year = games_data['year_of_release']"
   ]
  },
  {
   "cell_type": "code",
   "execution_count": 85,
   "metadata": {},
   "outputs": [
    {
     "data": {
      "text/plain": [
       "2020    8390\n",
       "2018    7558\n",
       "2019    6928\n",
       "2021    5928\n",
       "2017    5902\n",
       "2016    4150\n",
       "2015    2395\n",
       "2014    1317\n",
       "2013     562\n",
       "2012     433\n",
       "2011     331\n",
       "0        330\n",
       "2010     268\n",
       "2009     260\n",
       "2008     195\n",
       "2007     153\n",
       "2006     146\n",
       "2005      94\n",
       "2003      91\n",
       "2004      76\n",
       "2001      63\n",
       "1999      58\n",
       "1998      58\n",
       "2002      54\n",
       "2000      51\n",
       "1997      47\n",
       "1996      43\n",
       "1994      43\n",
       "1995      38\n",
       "1993      27\n",
       "1990      23\n",
       "1992      18\n",
       "1989      14\n",
       "1988      14\n",
       "1991      14\n",
       "2022       8\n",
       "1987       6\n",
       "1986       5\n",
       "2024       3\n",
       "1985       2\n",
       "1984       2\n",
       "2023       1\n",
       "1983       1\n",
       "1970       1\n",
       "Name: year_of_release, dtype: int64"
      ]
     },
     "execution_count": 85,
     "metadata": {},
     "output_type": "execute_result"
    }
   ],
   "source": [
    "# Checking value counts of year\n",
    "release_year.value_counts()"
   ]
  },
  {
   "cell_type": "code",
   "execution_count": 86,
   "metadata": {},
   "outputs": [],
   "source": [
    "# To make the data more readable, I will analyze the games released for only last 21 years\n",
    "\n",
    "# I will convert all years before 2000 to 1999\n",
    "release_year = np.where(release_year <2000, 1999, release_year)\n",
    "\n",
    "# And all the years after 2021 to 2022\n",
    "release_year = np.where(release_year >2021, 2022, release_year)"
   ]
  },
  {
   "cell_type": "code",
   "execution_count": 87,
   "metadata": {},
   "outputs": [
    {
     "data": {
      "text/plain": [
       "Text(0.5, 1.0, 'Countplot for Year of Release')"
      ]
     },
     "execution_count": 87,
     "metadata": {},
     "output_type": "execute_result"
    },
    {
     "data": {
      "image/png": "[encoded data removed]",
      "text/plain": [
       "<Figure size 1296x360 with 1 Axes>"
      ]
     },
     "metadata": {
      "needs_background": "light"
     },
     "output_type": "display_data"
    }
   ],
   "source": [
    "# Countplot of 'month_of_release'\n",
    "plt.figure(figsize= (18,5))\n",
    "sns.countplot(release_year)\n",
    "plt.xlabel('Year of Release')\n",
    "plt.ylabel('Count')\n",
    "plt.title('Countplot for Year of Release')"
   ]
  },
  {
   "cell_type": "code",
   "execution_count": 828,
   "metadata": {},
   "outputs": [],
   "source": [
    "# Note: 1. Column of 1999 represents all the games released on or before year 1999\n",
    "#       2. Column of 2022 represents all the games scheduled to be released after year 2021"
   ]
  },
  {
   "cell_type": "code",
   "execution_count": 829,
   "metadata": {},
   "outputs": [],
   "source": [
    "# Number of games released from 2000 to 2013 are in comparable range\n",
    "# There is a significant increase in games release from 2013 to 2014\n",
    "# Games released have increased at an exponential rate between 2014 and 2018\n",
    "# There is a drop is game release from 2018 to 2019. Not enough data is available to know the exact reason for this drop "
   ]
  },
  {
   "cell_type": "code",
   "execution_count": 88,
   "metadata": {},
   "outputs": [
    {
     "data": {
      "text/plain": [
       "1317"
      ]
     },
     "execution_count": 88,
     "metadata": {},
     "output_type": "execute_result"
    }
   ],
   "source": [
    "# Calculating CAGR for games released between 2014 and 2018\n",
    "len (games_data[games_data['year_of_release']==2014])"
   ]
  },
  {
   "cell_type": "code",
   "execution_count": 89,
   "metadata": {},
   "outputs": [
    {
     "data": {
      "text/plain": [
       "7558"
      ]
     },
     "execution_count": 89,
     "metadata": {},
     "output_type": "execute_result"
    }
   ],
   "source": [
    "len (games_data[games_data['year_of_release']==2018])"
   ]
  },
  {
   "cell_type": "code",
   "execution_count": 90,
   "metadata": {},
   "outputs": [
    {
     "data": {
      "text/plain": [
       "0.43470007593014426"
      ]
     },
     "execution_count": 90,
     "metadata": {},
     "output_type": "execute_result"
    }
   ],
   "source": [
    "CAGR = (7558/1317)*(0.25) - 1\n",
    "CAGR"
   ]
  },
  {
   "cell_type": "markdown",
   "metadata": {},
   "source": [
    "# Games released have increased at a CAGR of 43.47% between 2014 and 2018"
   ]
  },
  {
   "cell_type": "code",
   "execution_count": 77,
   "metadata": {},
   "outputs": [],
   "source": [
    "# Day of release"
   ]
  },
  {
   "cell_type": "code",
   "execution_count": 76,
   "metadata": {},
   "outputs": [],
   "source": [
    "# 'day_of_release' has values from 1 to 31\n",
    "# If 'day_of_release' = 0, that means data is not available\n",
    "\n",
    "# Instead to taking each day, I will convert it into weeks"
   ]
  },
  {
   "cell_type": "code",
   "execution_count": 91,
   "metadata": {},
   "outputs": [],
   "source": [
    "# Making bins and defining labels for days\n",
    "bins = [ 0, 7, 14 , 28, 35]\n",
    "labels = ['Week 1', 'Week 2', 'Week 3', 'Week 4' ]"
   ]
  },
  {
   "cell_type": "code",
   "execution_count": 92,
   "metadata": {},
   "outputs": [],
   "source": [
    "week = pd.cut(games_data['day_of_release'] , bins=bins, labels= labels, include_lowest=True)"
   ]
  },
  {
   "cell_type": "code",
   "execution_count": 93,
   "metadata": {},
   "outputs": [
    {
     "data": {
      "text/plain": [
       "Text(0.5, 1.0, 'Countplot for Week of Release')"
      ]
     },
     "execution_count": 93,
     "metadata": {},
     "output_type": "execute_result"
    },
    {
     "data": {
      "image/png": "[encoded data removed]",
      "text/plain": [
       "<Figure size 720x360 with 1 Axes>"
      ]
     },
     "metadata": {
      "needs_background": "light"
     },
     "output_type": "display_data"
    }
   ],
   "source": [
    "# Countplot of weeks\n",
    "plt.figure(figsize= (10,5))\n",
    "sns.countplot(week)\n",
    "plt.xlabel('Week of Release')\n",
    "plt.ylabel('Count')\n",
    "plt.title('Countplot for Week of Release')"
   ]
  },
  {
   "cell_type": "code",
   "execution_count": 94,
   "metadata": {},
   "outputs": [
    {
     "data": {
      "text/plain": [
       "Week 3    0.462051\n",
       "Week 1    0.232880\n",
       "Week 2    0.212902\n",
       "Week 4    0.092167\n",
       "Name: day_of_release, dtype: float64"
      ]
     },
     "execution_count": 94,
     "metadata": {},
     "output_type": "execute_result"
    }
   ],
   "source": [
    "week.value_counts(normalize = True)"
   ]
  },
  {
   "cell_type": "code",
   "execution_count": null,
   "metadata": {},
   "outputs": [],
   "source": [
    "# Significantly higher number of games are released in Week 3 as compared to all other weeks"
   ]
  },
  {
   "cell_type": "markdown",
   "metadata": {},
   "source": [
    "# 46.26% of all games are released in Week 3"
   ]
  },
  {
   "cell_type": "markdown",
   "metadata": {},
   "source": [
    "# 44.57% of all games are released in both Week 1 and Week 2 combined"
   ]
  },
  {
   "cell_type": "code",
   "execution_count": null,
   "metadata": {},
   "outputs": [],
   "source": [
    "# The available data is not sufficient to know the exact cause of this observation"
   ]
  },
  {
   "cell_type": "code",
   "execution_count": null,
   "metadata": {},
   "outputs": [],
   "source": [
    "### Genre"
   ]
  },
  {
   "cell_type": "code",
   "execution_count": 95,
   "metadata": {},
   "outputs": [
    {
     "data": {
      "text/plain": [
       "0                       Action, Free to Play, Strategy\n",
       "1                                 Action, Free to Play\n",
       "2             Action, Adventure, Massively Multiplayer\n",
       "3                                 Action, Free to Play\n",
       "4       Action, Adventure, Casual, Free to Play, Indie\n",
       "5                                 Action, Free to Play\n",
       "6                                               Action\n",
       "7                                    Action, Adventure\n",
       "8                        Action, Adventure, Indie, RPG\n",
       "9    Action, Adventure, Indie, Massively Multiplaye...\n",
       "Name: genre, dtype: object"
      ]
     },
     "execution_count": 95,
     "metadata": {},
     "output_type": "execute_result"
    }
   ],
   "source": [
    "# Checking the 'genre' column\n",
    "games_data['genre'].head(10)"
   ]
  },
  {
   "cell_type": "code",
   "execution_count": null,
   "metadata": {},
   "outputs": [],
   "source": [
    "# There are multiple tags within the genre column\n",
    "# To make the data more redable, I will make list of genre for all games"
   ]
  },
  {
   "cell_type": "code",
   "execution_count": 96,
   "metadata": {},
   "outputs": [],
   "source": [
    "games_data['genre_list'] = None"
   ]
  },
  {
   "cell_type": "code",
   "execution_count": 98,
   "metadata": {},
   "outputs": [],
   "source": [
    "for i in range(len(games_data)):\n",
    "    try:\n",
    "        games_data.at[i,'genre_list'] = games_data.at[i,'genre'].split(', ')\n",
    "    except:\n",
    "        games_data.at[i,'genre_list'] = 'Null'"
   ]
  },
  {
   "cell_type": "code",
   "execution_count": 99,
   "metadata": {},
   "outputs": [],
   "source": [
    "# Now I will store all the tags of genre in separate list\n",
    "master_list_of_genre = []\n",
    "for i in range(len(games_data)):\n",
    "    master_list_of_genre.extend(games_data.at[i,'genre_list']) "
   ]
  },
  {
   "cell_type": "code",
   "execution_count": 100,
   "metadata": {},
   "outputs": [],
   "source": [
    "# Making a Dataframe\n",
    "df_master_list_of_genre = pd.DataFrame(data= master_list_of_genre, columns = ['genre'])"
   ]
  },
  {
   "cell_type": "code",
   "execution_count": 101,
   "metadata": {},
   "outputs": [
    {
     "data": {
      "text/plain": [
       "Indie                    32731\n",
       "Action                   19702\n",
       "Casual                   17905\n",
       "Adventure                17385\n",
       "Strategy                  8972\n",
       "Simulation                8884\n",
       "RPG                       7742\n",
       "Early Access              5146\n",
       "Free to Play              3411\n",
       "Sports                    2246\n",
       "Racing                    1745\n",
       "Massively Multiplayer     1323\n",
       "Utilities                  598\n",
       "l                          464\n",
       "Design & Illustration      367\n",
       "Animation & Modeling       296\n",
       "Education                  286\n",
       "u                          232\n",
       "N                          232\n",
       "Video Production           229\n",
       "Audio Production           172\n",
       "Software Training          148\n",
       "Game Development           126\n",
       "Photo Editing               96\n",
       "Web Publishing              82\n",
       "Violent                     56\n",
       "Gore                        29\n",
       "Nudity                      15\n",
       "Accounting                  14\n",
       "Sexual Content              13\n",
       "Movie                        2\n",
       "Short                        1\n",
       "Tutorial                     1\n",
       "Documentary                  1\n",
       "Episodic                     1\n",
       "360 V                        1\n",
       "Name: genre, dtype: int64"
      ]
     },
     "execution_count": 101,
     "metadata": {},
     "output_type": "execute_result"
    }
   ],
   "source": [
    "# Checking the cumulative value counts of genres\n",
    "df_master_list_of_genre['genre'].value_counts()"
   ]
  },
  {
   "cell_type": "code",
   "execution_count": 853,
   "metadata": {},
   "outputs": [],
   "source": [
    "# There are genres such as 'Episodic' , 'Tutorial' , 'Short', '360 V' and 'Documentary' which have only 1 count\n",
    "\n",
    "# So, I will only consider genre tags above 'Massively Multiplayer' \n",
    "# As 'Massively Multiplayer' represents 1% of all the genre tags "
   ]
  },
  {
   "cell_type": "code",
   "execution_count": 102,
   "metadata": {},
   "outputs": [
    {
     "data": {
      "text/plain": [
       "['Indie',\n",
       " 'Action',\n",
       " 'Casual',\n",
       " 'Adventure',\n",
       " 'Strategy',\n",
       " 'Simulation',\n",
       " 'RPG',\n",
       " 'Early Access',\n",
       " 'Free to Play',\n",
       " 'Sports',\n",
       " 'Racing',\n",
       " 'Massively Multiplayer']"
      ]
     },
     "execution_count": 102,
     "metadata": {},
     "output_type": "execute_result"
    }
   ],
   "source": [
    "# Making a list of most frequent genres till 'Massively Multiplayer'\n",
    "list_of_genre = list(df_master_list_of_genre['genre'].value_counts().nlargest(12).index)\n",
    "list_of_genre"
   ]
  },
  {
   "cell_type": "code",
   "execution_count": 103,
   "metadata": {},
   "outputs": [
    {
     "data": {
      "text/plain": [
       "['Indie',\n",
       " 'Action',\n",
       " 'Casual',\n",
       " 'Adventure',\n",
       " 'Strategy',\n",
       " 'Simulation',\n",
       " 'RPG',\n",
       " 'Early Access',\n",
       " 'Sports',\n",
       " 'Racing',\n",
       " 'Massively Multiplayer']"
      ]
     },
     "execution_count": 103,
     "metadata": {},
     "output_type": "execute_result"
    }
   ],
   "source": [
    "# Since 'Free to Play' is not exactly game genre, I will remove it\n",
    "list_of_genre.remove('Free to Play')\n",
    "list_of_genre"
   ]
  },
  {
   "cell_type": "code",
   "execution_count": 104,
   "metadata": {},
   "outputs": [],
   "source": [
    "# In the 'games_data' I will create new columns for each of 12 genres\n",
    "for genre in list_of_genre:\n",
    "    games_data[genre] = 0"
   ]
  },
  {
   "cell_type": "code",
   "execution_count": 105,
   "metadata": {},
   "outputs": [],
   "source": [
    "# I will also create a column 'free_to_play'\n",
    "# Its value will be 1 if game is free to play\n",
    "# Otherwise, Its value will be 0 if game is paid\n",
    "games_data['free_to_play'] =0"
   ]
  },
  {
   "cell_type": "code",
   "execution_count": 106,
   "metadata": {},
   "outputs": [
    {
     "data": {
      "text/plain": [
       "Index(['appid', 'name', 'developer', 'publisher', 'positive', 'negative',\n",
       "       'owners', 'median_forever', 'price', 'initialprice', 'discount', 'ccu',\n",
       "       'languages', 'genre', 'tags', 'date_of_release', 'day_of_release',\n",
       "       'month_of_release', 'year_of_release', 'positive_percent', 'genre_list',\n",
       "       'Indie', 'Action', 'Casual', 'Adventure', 'Strategy', 'Simulation',\n",
       "       'RPG', 'Early Access', 'Sports', 'Racing', 'Massively Multiplayer',\n",
       "       'free_to_play'],\n",
       "      dtype='object')"
      ]
     },
     "execution_count": 106,
     "metadata": {},
     "output_type": "execute_result"
    }
   ],
   "source": [
    "# Checking the columns of games_data\n",
    "games_data.columns"
   ]
  },
  {
   "cell_type": "code",
   "execution_count": 107,
   "metadata": {},
   "outputs": [],
   "source": [
    "# Based on 'genre_list', I will fill out all the genre columns of games_data\n",
    "# For example, if 'genre_list' = ['Action', 'Strategy'] then the column of Action and Strategy both will have values of 1\n",
    "\n",
    "\n",
    "# Also filing 'free_to_play' column\n",
    "# Its value will be 1 if game is free to play\n",
    "# Otherwise, Its value will be 0 if game is paid\n",
    "\n",
    "for i in range(len(games_data)):\n",
    "    if 'Free to Play' in games_data.at[i,'genre_list']:\n",
    "        games_data.at[i,'free_to_play'] = 1\n",
    "    for genre in list_of_genre:\n",
    "        if genre in games_data.at[i,'genre_list']:\n",
    "            games_data.at[i,genre] = 1"
   ]
  },
  {
   "cell_type": "code",
   "execution_count": 108,
   "metadata": {},
   "outputs": [
    {
     "data": {
      "text/html": [
       "<div>\n",
       "<style scoped>\n",
       "    .dataframe tbody tr th:only-of-type {\n",
       "        vertical-align: middle;\n",
       "    }\n",
       "\n",
       "    .dataframe tbody tr th {\n",
       "        vertical-align: top;\n",
       "    }\n",
       "\n",
       "    .dataframe thead th {\n",
       "        text-align: right;\n",
       "    }\n",
       "</style>\n",
       "<table border=\"1\" class=\"dataframe\">\n",
       "  <thead>\n",
       "    <tr style=\"text-align: right;\">\n",
       "      <th></th>\n",
       "      <th>appid</th>\n",
       "      <th>name</th>\n",
       "      <th>developer</th>\n",
       "      <th>publisher</th>\n",
       "      <th>positive</th>\n",
       "      <th>negative</th>\n",
       "      <th>owners</th>\n",
       "      <th>median_forever</th>\n",
       "      <th>price</th>\n",
       "      <th>initialprice</th>\n",
       "      <th>...</th>\n",
       "      <th>Casual</th>\n",
       "      <th>Adventure</th>\n",
       "      <th>Strategy</th>\n",
       "      <th>Simulation</th>\n",
       "      <th>RPG</th>\n",
       "      <th>Early Access</th>\n",
       "      <th>Sports</th>\n",
       "      <th>Racing</th>\n",
       "      <th>Massively Multiplayer</th>\n",
       "      <th>free_to_play</th>\n",
       "    </tr>\n",
       "  </thead>\n",
       "  <tbody>\n",
       "    <tr>\n",
       "      <td>0</td>\n",
       "      <td>570</td>\n",
       "      <td>Dota 2</td>\n",
       "      <td>Valve</td>\n",
       "      <td>Valve</td>\n",
       "      <td>1311073</td>\n",
       "      <td>250492</td>\n",
       "      <td>100 mil to 200 mil</td>\n",
       "      <td>1004</td>\n",
       "      <td>0.00</td>\n",
       "      <td>0.0</td>\n",
       "      <td>...</td>\n",
       "      <td>0</td>\n",
       "      <td>0</td>\n",
       "      <td>1</td>\n",
       "      <td>0</td>\n",
       "      <td>0</td>\n",
       "      <td>0</td>\n",
       "      <td>0</td>\n",
       "      <td>0</td>\n",
       "      <td>0</td>\n",
       "      <td>1</td>\n",
       "    </tr>\n",
       "    <tr>\n",
       "      <td>1</td>\n",
       "      <td>730</td>\n",
       "      <td>Counter-Strike: Global Offensive</td>\n",
       "      <td>Valve, Hidden Path Entertainment</td>\n",
       "      <td>Valve</td>\n",
       "      <td>5164509</td>\n",
       "      <td>698131</td>\n",
       "      <td>50 mil to 100 mil</td>\n",
       "      <td>7438</td>\n",
       "      <td>0.00</td>\n",
       "      <td>0.0</td>\n",
       "      <td>...</td>\n",
       "      <td>0</td>\n",
       "      <td>0</td>\n",
       "      <td>0</td>\n",
       "      <td>0</td>\n",
       "      <td>0</td>\n",
       "      <td>0</td>\n",
       "      <td>0</td>\n",
       "      <td>0</td>\n",
       "      <td>0</td>\n",
       "      <td>1</td>\n",
       "    </tr>\n",
       "    <tr>\n",
       "      <td>2</td>\n",
       "      <td>578080</td>\n",
       "      <td>PUBG: BATTLEGROUNDS</td>\n",
       "      <td>KRAFTON, Inc.</td>\n",
       "      <td>KRAFTON, Inc.</td>\n",
       "      <td>998442</td>\n",
       "      <td>822166</td>\n",
       "      <td>50 mil to 100 mil</td>\n",
       "      <td>10826</td>\n",
       "      <td>29.99</td>\n",
       "      <td>2999.0</td>\n",
       "      <td>...</td>\n",
       "      <td>0</td>\n",
       "      <td>1</td>\n",
       "      <td>0</td>\n",
       "      <td>0</td>\n",
       "      <td>0</td>\n",
       "      <td>0</td>\n",
       "      <td>0</td>\n",
       "      <td>0</td>\n",
       "      <td>1</td>\n",
       "      <td>0</td>\n",
       "    </tr>\n",
       "    <tr>\n",
       "      <td>3</td>\n",
       "      <td>440</td>\n",
       "      <td>Team Fortress 2</td>\n",
       "      <td>Valve</td>\n",
       "      <td>Valve</td>\n",
       "      <td>758302</td>\n",
       "      <td>50533</td>\n",
       "      <td>50 mil to 100 mil</td>\n",
       "      <td>365</td>\n",
       "      <td>0.00</td>\n",
       "      <td>0.0</td>\n",
       "      <td>...</td>\n",
       "      <td>0</td>\n",
       "      <td>0</td>\n",
       "      <td>0</td>\n",
       "      <td>0</td>\n",
       "      <td>0</td>\n",
       "      <td>0</td>\n",
       "      <td>0</td>\n",
       "      <td>0</td>\n",
       "      <td>0</td>\n",
       "      <td>1</td>\n",
       "    </tr>\n",
       "    <tr>\n",
       "      <td>4</td>\n",
       "      <td>304930</td>\n",
       "      <td>Unturned</td>\n",
       "      <td>Smartly Dressed Games</td>\n",
       "      <td>Smartly Dressed Games</td>\n",
       "      <td>410378</td>\n",
       "      <td>38733</td>\n",
       "      <td>20 mil to 50 mil</td>\n",
       "      <td>334</td>\n",
       "      <td>0.00</td>\n",
       "      <td>0.0</td>\n",
       "      <td>...</td>\n",
       "      <td>1</td>\n",
       "      <td>1</td>\n",
       "      <td>0</td>\n",
       "      <td>0</td>\n",
       "      <td>0</td>\n",
       "      <td>0</td>\n",
       "      <td>0</td>\n",
       "      <td>0</td>\n",
       "      <td>0</td>\n",
       "      <td>1</td>\n",
       "    </tr>\n",
       "  </tbody>\n",
       "</table>\n",
       "<p>5 rows × 33 columns</p>\n",
       "</div>"
      ],
      "text/plain": [
       "    appid                              name                         developer  \\\n",
       "0     570                            Dota 2                             Valve   \n",
       "1     730  Counter-Strike: Global Offensive  Valve, Hidden Path Entertainment   \n",
       "2  578080               PUBG: BATTLEGROUNDS                     KRAFTON, Inc.   \n",
       "3     440                   Team Fortress 2                             Valve   \n",
       "4  304930                          Unturned             Smartly Dressed Games   \n",
       "\n",
       "               publisher  positive  negative              owners  \\\n",
       "0                  Valve   1311073    250492  100 mil to 200 mil   \n",
       "1                  Valve   5164509    698131   50 mil to 100 mil   \n",
       "2          KRAFTON, Inc.    998442    822166   50 mil to 100 mil   \n",
       "3                  Valve    758302     50533   50 mil to 100 mil   \n",
       "4  Smartly Dressed Games    410378     38733    20 mil to 50 mil   \n",
       "\n",
       "   median_forever  price  initialprice  ...  Casual  Adventure Strategy  \\\n",
       "0            1004   0.00           0.0  ...       0          0        1   \n",
       "1            7438   0.00           0.0  ...       0          0        0   \n",
       "2           10826  29.99        2999.0  ...       0          1        0   \n",
       "3             365   0.00           0.0  ...       0          0        0   \n",
       "4             334   0.00           0.0  ...       1          1        0   \n",
       "\n",
       "  Simulation RPG Early Access  Sports Racing  Massively Multiplayer  \\\n",
       "0          0   0            0       0      0                      0   \n",
       "1          0   0            0       0      0                      0   \n",
       "2          0   0            0       0      0                      1   \n",
       "3          0   0            0       0      0                      0   \n",
       "4          0   0            0       0      0                      0   \n",
       "\n",
       "   free_to_play  \n",
       "0             1  \n",
       "1             1  \n",
       "2             0  \n",
       "3             1  \n",
       "4             1  \n",
       "\n",
       "[5 rows x 33 columns]"
      ]
     },
     "execution_count": 108,
     "metadata": {},
     "output_type": "execute_result"
    }
   ],
   "source": [
    "# checking the first 5 rows of dataframe\n",
    "games_data.head(5)"
   ]
  },
  {
   "cell_type": "code",
   "execution_count": 109,
   "metadata": {},
   "outputs": [
    {
     "name": "stdout",
     "output_type": "stream",
     "text": [
      "Indie : 32731\n",
      "Action : 19702\n",
      "Casual : 17905\n",
      "Adventure : 17385\n",
      "Strategy : 8972\n",
      "Simulation : 8884\n",
      "RPG : 7742\n",
      "Early Access : 5146\n",
      "Sports : 2246\n",
      "Racing : 1745\n",
      "Massively Multiplayer : 1323\n"
     ]
    }
   ],
   "source": [
    "# Checking the top genre for all games\n",
    "for genre in list_of_genre:\n",
    "    print(genre,\":\", games_data[genre].sum())"
   ]
  },
  {
   "cell_type": "markdown",
   "metadata": {},
   "source": [
    "# Top 5 genre for all games are: \n",
    "\n",
    "# 1. 'Indie' \n",
    "\n",
    "# 2. 'Action'\n",
    "\n",
    "# 3. 'Casual'\n",
    "\n",
    "# 4. 'Adventure' \n",
    "\n",
    "# 5. 'Strategy' "
   ]
  },
  {
   "cell_type": "code",
   "execution_count": 110,
   "metadata": {},
   "outputs": [],
   "source": [
    "# Splitting the games_data into 2 dataframes\n",
    "\n",
    "# First dataframe will have data of free to play games\n",
    "games_data_free_to_play = games_data[games_data['free_to_play']==1]\n",
    "\n",
    "# Second dataframes will have data of paid games\n",
    "games_data_paid_games = games_data[games_data['free_to_play']==0]"
   ]
  },
  {
   "cell_type": "code",
   "execution_count": 111,
   "metadata": {},
   "outputs": [
    {
     "name": "stdout",
     "output_type": "stream",
     "text": [
      "Indie : 2260\n",
      "Action : 1437\n",
      "Casual : 1415\n",
      "Adventure : 1089\n",
      "Strategy : 799\n",
      "Simulation : 651\n",
      "RPG : 776\n",
      "Early Access : 472\n",
      "Sports : 196\n",
      "Racing : 131\n",
      "Massively Multiplayer : 632\n"
     ]
    }
   ],
   "source": [
    "# Checking the top genre for free to play games\n",
    "for genre in list_of_genre:\n",
    "    print(genre,\":\", games_data_free_to_play[genre].sum())"
   ]
  },
  {
   "cell_type": "code",
   "execution_count": 112,
   "metadata": {},
   "outputs": [
    {
     "name": "stdout",
     "output_type": "stream",
     "text": [
      "Indie : 30471\n",
      "Action : 18265\n",
      "Casual : 16490\n",
      "Adventure : 16296\n",
      "Strategy : 8173\n",
      "Simulation : 8233\n",
      "RPG : 6966\n",
      "Early Access : 4674\n",
      "Sports : 2050\n",
      "Racing : 1614\n",
      "Massively Multiplayer : 691\n"
     ]
    }
   ],
   "source": [
    "# Checking the top genre for paid games\n",
    "for genre in list_of_genre:\n",
    "    print(genre,\":\", games_data_paid_games[genre].sum())"
   ]
  },
  {
   "cell_type": "markdown",
   "metadata": {},
   "source": [
    "# Top 5 genre for both free-to-play games and paid games are same\n",
    "\n",
    "# Top 5 genre for both are: \n",
    "\n",
    "# 1. 'Indie' \n",
    "\n",
    "# 2. 'Action'\n",
    "\n",
    "# 3. 'Casual'\n",
    "\n",
    "# 4. 'Adventure' \n",
    "\n",
    "# 5. 'Strategy' "
   ]
  },
  {
   "cell_type": "code",
   "execution_count": 113,
   "metadata": {},
   "outputs": [
    {
     "name": "stdout",
     "output_type": "stream",
     "text": [
      "Indie : 0.66\n",
      "Action : 0.42\n",
      "Casual : 0.41\n",
      "Adventure : 0.32\n",
      "Strategy : 0.23\n",
      "Simulation : 0.19\n",
      "RPG : 0.23\n",
      "Early Access : 0.14\n",
      "Sports : 0.06\n",
      "Racing : 0.04\n",
      "Massively Multiplayer : 0.19\n"
     ]
    }
   ],
   "source": [
    "# Checking the % of games for each genre in free to play category\n",
    "for genre in list_of_genre:\n",
    "    print(genre,\":\", round(games_data_free_to_play[genre].sum()/len(games_data_free_to_play),2))"
   ]
  },
  {
   "cell_type": "code",
   "execution_count": 114,
   "metadata": {},
   "outputs": [
    {
     "name": "stdout",
     "output_type": "stream",
     "text": [
      "Indie : 0.71\n",
      "Action : 0.43\n",
      "Casual : 0.39\n",
      "Adventure : 0.38\n",
      "Strategy : 0.19\n",
      "Simulation : 0.19\n",
      "RPG : 0.16\n",
      "Early Access : 0.11\n",
      "Sports : 0.05\n",
      "Racing : 0.04\n",
      "Massively Multiplayer : 0.02\n"
     ]
    }
   ],
   "source": [
    "# Checking the % of games for each genre in paid category\n",
    "for genre in list_of_genre:\n",
    "    print(genre,\":\", round(games_data_paid_games[genre].sum()/len(games_data_paid_games),2))"
   ]
  },
  {
   "cell_type": "markdown",
   "metadata": {},
   "source": [
    "# 19% of Free-to-play category have Massively Multiplayer genre\n",
    "# Whereas only 2% of Paid games have Massively Multiplayer genre "
   ]
  },
  {
   "cell_type": "markdown",
   "metadata": {},
   "source": [
    "# Percent of 'Indie', 'RPG' and 'Adventure' genres are different between         free-to-play and paid games"
   ]
  },
  {
   "cell_type": "code",
   "execution_count": 115,
   "metadata": {},
   "outputs": [],
   "source": [
    "# As seen above in year of release, there is exponential growth in games from 2014 to 2018\n",
    "\n",
    "# So checking the trend of genres from 2014 to 2020\n",
    "genre_year_trend = games_data[(games_data['year_of_release']>2013) & (games_data['year_of_release']<2021) ]"
   ]
  },
  {
   "cell_type": "code",
   "execution_count": 116,
   "metadata": {},
   "outputs": [
    {
     "data": {
      "text/html": [
       "<div>\n",
       "<style scoped>\n",
       "    .dataframe tbody tr th:only-of-type {\n",
       "        vertical-align: middle;\n",
       "    }\n",
       "\n",
       "    .dataframe tbody tr th {\n",
       "        vertical-align: top;\n",
       "    }\n",
       "\n",
       "    .dataframe thead th {\n",
       "        text-align: right;\n",
       "    }\n",
       "</style>\n",
       "<table border=\"1\" class=\"dataframe\">\n",
       "  <thead>\n",
       "    <tr style=\"text-align: right;\">\n",
       "      <th></th>\n",
       "      <th>Indie</th>\n",
       "      <th>Action</th>\n",
       "      <th>Casual</th>\n",
       "      <th>Adventure</th>\n",
       "      <th>Strategy</th>\n",
       "      <th>Simulation</th>\n",
       "      <th>RPG</th>\n",
       "      <th>Early Access</th>\n",
       "      <th>Sports</th>\n",
       "      <th>Racing</th>\n",
       "      <th>Massively Multiplayer</th>\n",
       "    </tr>\n",
       "    <tr>\n",
       "      <th>year_of_release</th>\n",
       "      <th></th>\n",
       "      <th></th>\n",
       "      <th></th>\n",
       "      <th></th>\n",
       "      <th></th>\n",
       "      <th></th>\n",
       "      <th></th>\n",
       "      <th></th>\n",
       "      <th></th>\n",
       "      <th></th>\n",
       "      <th></th>\n",
       "    </tr>\n",
       "  </thead>\n",
       "  <tbody>\n",
       "    <tr>\n",
       "      <td>2014</td>\n",
       "      <td>884</td>\n",
       "      <td>568</td>\n",
       "      <td>345</td>\n",
       "      <td>461</td>\n",
       "      <td>279</td>\n",
       "      <td>191</td>\n",
       "      <td>263</td>\n",
       "      <td>56</td>\n",
       "      <td>58</td>\n",
       "      <td>47</td>\n",
       "      <td>35</td>\n",
       "    </tr>\n",
       "    <tr>\n",
       "      <td>2015</td>\n",
       "      <td>1777</td>\n",
       "      <td>1080</td>\n",
       "      <td>689</td>\n",
       "      <td>928</td>\n",
       "      <td>510</td>\n",
       "      <td>403</td>\n",
       "      <td>476</td>\n",
       "      <td>166</td>\n",
       "      <td>92</td>\n",
       "      <td>86</td>\n",
       "      <td>58</td>\n",
       "    </tr>\n",
       "    <tr>\n",
       "      <td>2016</td>\n",
       "      <td>2925</td>\n",
       "      <td>1796</td>\n",
       "      <td>1558</td>\n",
       "      <td>1514</td>\n",
       "      <td>753</td>\n",
       "      <td>780</td>\n",
       "      <td>578</td>\n",
       "      <td>395</td>\n",
       "      <td>225</td>\n",
       "      <td>147</td>\n",
       "      <td>119</td>\n",
       "    </tr>\n",
       "    <tr>\n",
       "      <td>2017</td>\n",
       "      <td>4225</td>\n",
       "      <td>2578</td>\n",
       "      <td>2346</td>\n",
       "      <td>2220</td>\n",
       "      <td>1046</td>\n",
       "      <td>1109</td>\n",
       "      <td>836</td>\n",
       "      <td>602</td>\n",
       "      <td>333</td>\n",
       "      <td>213</td>\n",
       "      <td>171</td>\n",
       "    </tr>\n",
       "    <tr>\n",
       "      <td>2018</td>\n",
       "      <td>5759</td>\n",
       "      <td>3171</td>\n",
       "      <td>3312</td>\n",
       "      <td>2714</td>\n",
       "      <td>1335</td>\n",
       "      <td>1520</td>\n",
       "      <td>1156</td>\n",
       "      <td>814</td>\n",
       "      <td>397</td>\n",
       "      <td>281</td>\n",
       "      <td>224</td>\n",
       "    </tr>\n",
       "    <tr>\n",
       "      <td>2019</td>\n",
       "      <td>5253</td>\n",
       "      <td>2960</td>\n",
       "      <td>2771</td>\n",
       "      <td>2744</td>\n",
       "      <td>1351</td>\n",
       "      <td>1361</td>\n",
       "      <td>1297</td>\n",
       "      <td>877</td>\n",
       "      <td>345</td>\n",
       "      <td>267</td>\n",
       "      <td>235</td>\n",
       "    </tr>\n",
       "    <tr>\n",
       "      <td>2020</td>\n",
       "      <td>6340</td>\n",
       "      <td>3655</td>\n",
       "      <td>3568</td>\n",
       "      <td>3333</td>\n",
       "      <td>1689</td>\n",
       "      <td>1731</td>\n",
       "      <td>1509</td>\n",
       "      <td>1174</td>\n",
       "      <td>403</td>\n",
       "      <td>295</td>\n",
       "      <td>253</td>\n",
       "    </tr>\n",
       "  </tbody>\n",
       "</table>\n",
       "</div>"
      ],
      "text/plain": [
       "                 Indie  Action  Casual  Adventure  Strategy  Simulation   RPG  \\\n",
       "year_of_release                                                                 \n",
       "2014               884     568     345        461       279         191   263   \n",
       "2015              1777    1080     689        928       510         403   476   \n",
       "2016              2925    1796    1558       1514       753         780   578   \n",
       "2017              4225    2578    2346       2220      1046        1109   836   \n",
       "2018              5759    3171    3312       2714      1335        1520  1156   \n",
       "2019              5253    2960    2771       2744      1351        1361  1297   \n",
       "2020              6340    3655    3568       3333      1689        1731  1509   \n",
       "\n",
       "                 Early Access  Sports  Racing  Massively Multiplayer  \n",
       "year_of_release                                                       \n",
       "2014                       56      58      47                     35  \n",
       "2015                      166      92      86                     58  \n",
       "2016                      395     225     147                    119  \n",
       "2017                      602     333     213                    171  \n",
       "2018                      814     397     281                    224  \n",
       "2019                      877     345     267                    235  \n",
       "2020                     1174     403     295                    253  "
      ]
     },
     "execution_count": 116,
     "metadata": {},
     "output_type": "execute_result"
    }
   ],
   "source": [
    "genre_year_trend.groupby('year_of_release')[list_of_genre].apply(lambda x : x.astype(int).sum())"
   ]
  },
  {
   "cell_type": "code",
   "execution_count": 117,
   "metadata": {},
   "outputs": [],
   "source": [
    "genre_trend = genre_year_trend.groupby('year_of_release')[list_of_genre].apply(lambda x : x.astype(int).sum())"
   ]
  },
  {
   "cell_type": "code",
   "execution_count": 118,
   "metadata": {},
   "outputs": [
    {
     "data": {
      "text/html": [
       "<div>\n",
       "<style scoped>\n",
       "    .dataframe tbody tr th:only-of-type {\n",
       "        vertical-align: middle;\n",
       "    }\n",
       "\n",
       "    .dataframe tbody tr th {\n",
       "        vertical-align: top;\n",
       "    }\n",
       "\n",
       "    .dataframe thead th {\n",
       "        text-align: right;\n",
       "    }\n",
       "</style>\n",
       "<table border=\"1\" class=\"dataframe\">\n",
       "  <thead>\n",
       "    <tr style=\"text-align: right;\">\n",
       "      <th></th>\n",
       "      <th>Indie</th>\n",
       "      <th>Action</th>\n",
       "      <th>Casual</th>\n",
       "      <th>Adventure</th>\n",
       "      <th>Strategy</th>\n",
       "      <th>Simulation</th>\n",
       "      <th>RPG</th>\n",
       "      <th>Early Access</th>\n",
       "      <th>Sports</th>\n",
       "      <th>Racing</th>\n",
       "      <th>Massively Multiplayer</th>\n",
       "    </tr>\n",
       "    <tr>\n",
       "      <th>year_of_release</th>\n",
       "      <th></th>\n",
       "      <th></th>\n",
       "      <th></th>\n",
       "      <th></th>\n",
       "      <th></th>\n",
       "      <th></th>\n",
       "      <th></th>\n",
       "      <th></th>\n",
       "      <th></th>\n",
       "      <th></th>\n",
       "      <th></th>\n",
       "    </tr>\n",
       "  </thead>\n",
       "  <tbody>\n",
       "    <tr>\n",
       "      <td>2014</td>\n",
       "      <td>1.00</td>\n",
       "      <td>1.00</td>\n",
       "      <td>1.00</td>\n",
       "      <td>1.00</td>\n",
       "      <td>1.00</td>\n",
       "      <td>1.00</td>\n",
       "      <td>1.00</td>\n",
       "      <td>1.00</td>\n",
       "      <td>1.00</td>\n",
       "      <td>1.00</td>\n",
       "      <td>1.00</td>\n",
       "    </tr>\n",
       "    <tr>\n",
       "      <td>2015</td>\n",
       "      <td>2.01</td>\n",
       "      <td>1.90</td>\n",
       "      <td>2.00</td>\n",
       "      <td>2.01</td>\n",
       "      <td>1.83</td>\n",
       "      <td>2.11</td>\n",
       "      <td>1.81</td>\n",
       "      <td>2.96</td>\n",
       "      <td>1.59</td>\n",
       "      <td>1.83</td>\n",
       "      <td>1.66</td>\n",
       "    </tr>\n",
       "    <tr>\n",
       "      <td>2016</td>\n",
       "      <td>3.31</td>\n",
       "      <td>3.16</td>\n",
       "      <td>4.52</td>\n",
       "      <td>3.28</td>\n",
       "      <td>2.70</td>\n",
       "      <td>4.08</td>\n",
       "      <td>2.20</td>\n",
       "      <td>7.05</td>\n",
       "      <td>3.88</td>\n",
       "      <td>3.13</td>\n",
       "      <td>3.40</td>\n",
       "    </tr>\n",
       "    <tr>\n",
       "      <td>2017</td>\n",
       "      <td>4.78</td>\n",
       "      <td>4.54</td>\n",
       "      <td>6.80</td>\n",
       "      <td>4.82</td>\n",
       "      <td>3.75</td>\n",
       "      <td>5.81</td>\n",
       "      <td>3.18</td>\n",
       "      <td>10.75</td>\n",
       "      <td>5.74</td>\n",
       "      <td>4.53</td>\n",
       "      <td>4.89</td>\n",
       "    </tr>\n",
       "    <tr>\n",
       "      <td>2018</td>\n",
       "      <td>6.51</td>\n",
       "      <td>5.58</td>\n",
       "      <td>9.60</td>\n",
       "      <td>5.89</td>\n",
       "      <td>4.78</td>\n",
       "      <td>7.96</td>\n",
       "      <td>4.40</td>\n",
       "      <td>14.54</td>\n",
       "      <td>6.84</td>\n",
       "      <td>5.98</td>\n",
       "      <td>6.40</td>\n",
       "    </tr>\n",
       "    <tr>\n",
       "      <td>2019</td>\n",
       "      <td>5.94</td>\n",
       "      <td>5.21</td>\n",
       "      <td>8.03</td>\n",
       "      <td>5.95</td>\n",
       "      <td>4.84</td>\n",
       "      <td>7.13</td>\n",
       "      <td>4.93</td>\n",
       "      <td>15.66</td>\n",
       "      <td>5.95</td>\n",
       "      <td>5.68</td>\n",
       "      <td>6.71</td>\n",
       "    </tr>\n",
       "    <tr>\n",
       "      <td>2020</td>\n",
       "      <td>7.17</td>\n",
       "      <td>6.43</td>\n",
       "      <td>10.34</td>\n",
       "      <td>7.23</td>\n",
       "      <td>6.05</td>\n",
       "      <td>9.06</td>\n",
       "      <td>5.74</td>\n",
       "      <td>20.96</td>\n",
       "      <td>6.95</td>\n",
       "      <td>6.28</td>\n",
       "      <td>7.23</td>\n",
       "    </tr>\n",
       "  </tbody>\n",
       "</table>\n",
       "</div>"
      ],
      "text/plain": [
       "                 Indie  Action  Casual  Adventure  Strategy  Simulation   RPG  \\\n",
       "year_of_release                                                                 \n",
       "2014              1.00    1.00    1.00       1.00      1.00        1.00  1.00   \n",
       "2015              2.01    1.90    2.00       2.01      1.83        2.11  1.81   \n",
       "2016              3.31    3.16    4.52       3.28      2.70        4.08  2.20   \n",
       "2017              4.78    4.54    6.80       4.82      3.75        5.81  3.18   \n",
       "2018              6.51    5.58    9.60       5.89      4.78        7.96  4.40   \n",
       "2019              5.94    5.21    8.03       5.95      4.84        7.13  4.93   \n",
       "2020              7.17    6.43   10.34       7.23      6.05        9.06  5.74   \n",
       "\n",
       "                 Early Access  Sports  Racing  Massively Multiplayer  \n",
       "year_of_release                                                       \n",
       "2014                     1.00    1.00    1.00                   1.00  \n",
       "2015                     2.96    1.59    1.83                   1.66  \n",
       "2016                     7.05    3.88    3.13                   3.40  \n",
       "2017                    10.75    5.74    4.53                   4.89  \n",
       "2018                    14.54    6.84    5.98                   6.40  \n",
       "2019                    15.66    5.95    5.68                   6.71  \n",
       "2020                    20.96    6.95    6.28                   7.23  "
      ]
     },
     "execution_count": 118,
     "metadata": {},
     "output_type": "execute_result"
    }
   ],
   "source": [
    "# Now assuming year 2014 as baseline, \n",
    "# I can divide all Indie values by Indie value of year 2014\n",
    "# This will give me the growth over years\n",
    "\n",
    "# Doing this for all the genres\n",
    "round(genre_trend.div(genre_trend.iloc[0]),2)"
   ]
  },
  {
   "cell_type": "markdown",
   "metadata": {},
   "source": [
    "# For the time span of 2014 to 2020 (taking 2014 as baseline):"
   ]
  },
  {
   "cell_type": "markdown",
   "metadata": {},
   "source": [
    "# 1. All genre categories have increased in the time span "
   ]
  },
  {
   "cell_type": "markdown",
   "metadata": {},
   "source": [
    "# 2. Most significance increase is for 'Early Access' genre. This genre has increased 20.96 times"
   ]
  },
  {
   "cell_type": "markdown",
   "metadata": {},
   "source": [
    "# 3. Number of 'Casual' games released has increased 10.34 times "
   ]
  },
  {
   "cell_type": "markdown",
   "metadata": {},
   "source": [
    "# 4. Number of 'Simulation' games released has increased 9.06 times"
   ]
  },
  {
   "cell_type": "markdown",
   "metadata": {},
   "source": [
    "# 5. Except 'Early Access' , 'Casual' and 'Simulation', all other genres have increased by average 6.5 times"
   ]
  },
  {
   "cell_type": "code",
   "execution_count": null,
   "metadata": {},
   "outputs": [],
   "source": []
  },
  {
   "cell_type": "code",
   "execution_count": 119,
   "metadata": {},
   "outputs": [],
   "source": [
    "genre_year_trend =round(genre_trend.div(genre_trend.iloc[0]),2)"
   ]
  },
  {
   "cell_type": "code",
   "execution_count": 120,
   "metadata": {},
   "outputs": [
    {
     "data": {
      "text/plain": [
       "Text(0.5, 1.0, 'Growth of Genre with year')"
      ]
     },
     "execution_count": 120,
     "metadata": {},
     "output_type": "execute_result"
    },
    {
     "data": {
      "image/png": "[encoded data removed]",
      "text/plain": [
       "<Figure size 1080x360 with 1 Axes>"
      ]
     },
     "metadata": {
      "needs_background": "light"
     },
     "output_type": "display_data"
    }
   ],
   "source": [
    "# Plotting Growth of Genre with year\n",
    "genre_year_trend.plot(figsize= (15,5))\n",
    "plt.xlabel('Year')\n",
    "plt.ylabel('Multiplier')\n",
    "plt.title('Growth of Genre with year')"
   ]
  },
  {
   "cell_type": "code",
   "execution_count": null,
   "metadata": {},
   "outputs": [],
   "source": [
    "####### LAST LINE ####### "
   ]
  },
  {
   "cell_type": "code",
   "execution_count": null,
   "metadata": {},
   "outputs": [],
   "source": []
  },
  {
   "cell_type": "code",
   "execution_count": null,
   "metadata": {},
   "outputs": [],
   "source": []
  }
 ],
 "metadata": {
  "kernelspec": {
   "display_name": "Python 3",
   "language": "python",
   "name": "python3"
  },
  "language_info": {
   "codemirror_mode": {
    "name": "ipython",
    "version": 3
   },
   "file_extension": ".py",
   "mimetype": "text/x-python",
   "name": "python",
   "nbconvert_exporter": "python",
   "pygments_lexer": "ipython3",
   "version": "3.7.4"
  }
 },
 "nbformat": 4,
 "nbformat_minor": 2
}
